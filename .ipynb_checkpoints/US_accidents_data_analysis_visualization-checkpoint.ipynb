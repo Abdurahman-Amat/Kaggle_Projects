{
 "cells": [
  {
   "cell_type": "markdown",
   "metadata": {},
   "source": [
    "# US Accidents Data Visualization and Analysis (records > 3.5 million)"
   ]
  },
  {
   "cell_type": "markdown",
   "metadata": {},
   "source": [
    "---"
   ]
  },
  {
   "cell_type": "markdown",
   "metadata": {
    "jupyter": {
     "source_hidden": true
    }
   },
   "source": [
    "## About this Notebook  \n",
    "In this Notebook I tried to perform data visualization on the dataset us_accident_dataset. In order to describe this data more vividly I tried to use several different types of plots such as folium.Map, Histogram, Bar plot, Waffle plot, WordCloud."
   ]
  },
  {
   "cell_type": "markdown",
   "metadata": {},
   "source": [
    "<h1>Table of contents</h1>\n",
    "\n",
    "<div class=\"alert alert-block alert-info\" style=\"margin-top: 20px\">\n",
    "    <ol>\n",
    "        <li><a href=\"#ref1\">Downloading and Prepping Data</a></li>\n",
    "        <li><a href=\"#ref2\">Distribution of the accidents accross US states (except Alaska)</a></li>\n",
    "        <li><a href=\"#ref3\">Impact of Visibility</a></li>\n",
    "        <li><a href=\"#ref4\">Monthly Distribution</a></li>\n",
    "        <li><a href=\"#ref5\">Hourly Distribution During the Week</a></li>\n",
    "        <li><a href=\"#ref6\">Distribution Along Weekdays</a></li>\n",
    "        <li><a href=\"#ref7\">Analysis on the Recorded Accident Descriptions</a></li>\n",
    "        <li><a href=\"#ref8\">Impact of the Temperature</a></li>\n",
    "        <li><a href=\"#ref9\">Quick Check the Impacts of other features</a></li>\n",
    "        <li><a href=\"#ref10\">Acknowledgements and References</a></li>\n",
    "    </ol>\n",
    "    \n",
    "</div>\n",
    "\n",
    "<hr>  \n",
    "\n",
    "<h2>\n",
    "<div class=\"alert alert-danger\"\" style=\"margin-top: 20px\">\n",
    "          If the map could NOT be opened, Please view the notebook via Jupyter nbviewer by <br> <a href=\"https://nbviewer.jupyter.org/github/Abdurahman-Amat/Kaggle_Projects/blob/master/US_accidents_data_analysis_visualization.ipynb\" target=\"_blank\">clicking here </a>, thank you!!!\n",
    "</div>\n",
    "</h2>  "
   ]
  },
  {
   "cell_type": "markdown",
   "metadata": {},
   "source": [
    "<a id=\"ref1\"></a>\n",
    "# Downloading and Prepping Data"
   ]
  },
  {
   "cell_type": "code",
   "execution_count": null,
   "metadata": {
    "_cell_guid": "b1076dfc-b9ad-4769-8c92-a6c4dae69d19",
    "_uuid": "8f2839f25d086af736a60e9eeb907d3b93b6e0e5"
   },
   "outputs": [],
   "source": [
    "# import libraries which are necessary in this notebook\n",
    "import numpy as np\n",
    "import pandas as pd\n",
    "from os import path\n",
    "import datetime\n",
    "import matplotlib\n",
    "# import folium library\n",
    "from folium import plugins\n",
    "import folium\n",
    "# use Waffle from pywaffle library for waffle plot\n",
    "!pip install pywaffle\n",
    "from pywaffle import Waffle\n",
    "# Start with loading all necessary libraries\n",
    "from PIL import Image\n",
    "from wordcloud import WordCloud, STOPWORDS, ImageColorGenerator\n",
    "import matplotlib.pyplot as plt\n",
    "from matplotlib import cm # color map"
   ]
  },
  {
   "cell_type": "code",
   "execution_count": null,
   "metadata": {
    "_cell_guid": "79c7e3d0-c299-4dcb-8224-4455121ee9b0",
    "_uuid": "d629ff2d2480ee46fbb7e2d37f6b5fab8052498a"
   },
   "outputs": [],
   "source": [
    "# Read the whole dataset into a Pandas' DataFrame\n",
    "local_path = r'C:/pythonwork/kaggle/data/us_accidents/US_Accidents_Dec19.csv'\n",
    "kaggle_path = '../input/us-accidents/US_Accidents_Dec19.csv'\n",
    "df=pd.read_csv(local_path)"
   ]
  },
  {
   "cell_type": "code",
   "execution_count": null,
   "metadata": {},
   "outputs": [],
   "source": [
    "# quick overview of the data\n",
    "df.head()"
   ]
  },
  {
   "cell_type": "markdown",
   "metadata": {},
   "source": [
    "SO, data is loaded successfully.  \n",
    "Let us loot at the size of the dataset"
   ]
  },
  {
   "cell_type": "code",
   "execution_count": null,
   "metadata": {},
   "outputs": [],
   "source": [
    "# Number of total entries\n",
    "df.shape"
   ]
  },
  {
   "cell_type": "markdown",
   "metadata": {},
   "source": [
    "Nearly 3 million entries, super!"
   ]
  },
  {
   "cell_type": "markdown",
   "metadata": {},
   "source": [
    "### Prepare the dataset for further viualization and analysis\n",
    "Lets check if there are any missing / NAN values in this dataset."
   ]
  },
  {
   "cell_type": "code",
   "execution_count": null,
   "metadata": {},
   "outputs": [],
   "source": [
    "# Lets check the nan values with in each column / feature\n",
    "# percentage of missing values in each column\n",
    "print((100*df.isnull().sum()/df.shape[0]).round(2))"
   ]
  },
  {
   "cell_type": "markdown",
   "metadata": {},
   "source": [
    "Before doing any analysis we can exclude for the moment the features *'TMC', 'End_Lat', 'End_Lng', 'Number', 'Wind_Chill(F)', 'Wind_Speed(mph)', 'Precipitation(in)'* due to the significant amount of NAN / missing values *24.48%, 75.52%, 75.52%, 64.47%, 62.29%, 14.82%, 67.19%,* respectively. One can consider them later in the analysis if their impact on the occurence of accidents. "
   ]
  },
  {
   "cell_type": "code",
   "execution_count": null,
   "metadata": {},
   "outputs": [],
   "source": [
    "# drop these columns\n",
    "df_new = df.drop(['TMC', 'End_Lat', 'End_Lng', 'Number', 'Wind_Chill(F)', 'Wind_Speed(mph)', 'Precipitation(in)'], axis = 1)\n",
    "df_new.dropna(axis = 0, how = 'any', inplace = True)"
   ]
  },
  {
   "cell_type": "code",
   "execution_count": null,
   "metadata": {},
   "outputs": [],
   "source": [
    "# check the shape again\n",
    "df_new.shape"
   ]
  },
  {
   "cell_type": "code",
   "execution_count": null,
   "metadata": {},
   "outputs": [],
   "source": [
    "# check again the possible nan / missing values\n",
    "df_new.isnull().sum()"
   ]
  },
  {
   "cell_type": "markdown",
   "metadata": {},
   "source": [
    "<a id=\"ref2\"></a>\n",
    "# Distribution of the accidents across US states\n"
   ]
  },
  {
   "cell_type": "code",
   "execution_count": null,
   "metadata": {},
   "outputs": [],
   "source": [
    "# Number of accidents by each state\n",
    "df_state=df_new.groupby(['State'], as_index=False).count().iloc[:,:2]\n",
    "# Rename the column that make more sence\n",
    "df_state=df_state.rename(columns={\"ID\":\"NrAccidents\"})\n",
    "# sort by number of accidents\n",
    "df_state.sort_values(by=['NrAccidents'], ascending=False, inplace=True)\n",
    "df_state.head()"
   ]
  },
  {
   "cell_type": "code",
   "execution_count": null,
   "metadata": {},
   "outputs": [],
   "source": [
    "# plot the map by using folium with corresponding distribution of accidents\n",
    "# geojson file without AK, Alaska\n",
    "# following is for the Kaggle kernel\n",
    "us_states_geo_kaggle = r'../input/geojson/us_states_49.json'\n",
    "us_states_geo_local = r'C:/pythonwork/kaggle/data/us_accidents/us_states_49.json'\n",
    "us_states_geo = us_states_geo_local\n",
    "# set the size of the plotting canvas / figsize\n",
    "f = folium.Figure(width=900, height=500)\n",
    "# create a plain USA map object\n",
    "us_accident_distribution_map = folium.Map(location=[40, -100], zoom_start=4).add_to(f)\n",
    "\n",
    "# threshold scaling\n",
    "# create a numpy array of length 6 and has linear spacing from the minium total immigration to the maximum total immigration\n",
    "threshold_scale = np.linspace(df_state['NrAccidents'].min(),\n",
    "                              df_state['NrAccidents'].max(),\n",
    "                              6, dtype=int)\n",
    "threshold_scale = threshold_scale.tolist() # change the numpy array to a list\n",
    "threshold_scale[-1] = threshold_scale[-1] + 1 # make sure that the last value of the list is greater than the maximum immigration\n",
    "# Apply the corresponding dataset to the map\n",
    "folium.Choropleth(\n",
    "    geo_data=us_states_geo,\n",
    "    name='choropleth',\n",
    "    data=df_state,\n",
    "    columns=['State','NrAccidents'],\n",
    "    key_on='feature.id',\n",
    "    threshold_scale=threshold_scale,\n",
    "    fill_color='OrRd',\n",
    "    fill_opacity=0.8,\n",
    "    line_opacity=0.2,\n",
    "    legend_name='Overview of the number of accidents across US (Alaska is not included)',\n",
    "    reset=True\n",
    ").add_to(us_accident_distribution_map)\n",
    "folium.LayerControl().add_to(us_accident_distribution_map)\n",
    "us_accident_distribution_map"
   ]
  },
  {
   "cell_type": "code",
   "execution_count": null,
   "metadata": {},
   "outputs": [],
   "source": [
    "# set the state names as the index\n",
    "df_state.set_index('State', inplace=True)"
   ]
  },
  {
   "cell_type": "code",
   "execution_count": null,
   "metadata": {},
   "outputs": [],
   "source": [
    "\n",
    "# plot data in bar chart\n",
    "df_state.plot(kind='bar', width=0.8, figsize=(15, 8), legend=False)\n",
    "plt.xlabel('State', fontsize=14) # add to x-label to the plot\n",
    "plt.ylabel('Number of Accidents', fontsize=14) # add y-label to the plot\n",
    "plt.title('Number of accidents by each state', fontsize=14) # add title to the plot\n",
    "plt.show()"
   ]
  },
  {
   "cell_type": "markdown",
   "metadata": {},
   "source": [
    "We can see that more than half of the accidents were actually occured in the first six states namely 'CA, TX, FL, SC, NC, NY'. We might see this significance more clearly with Waffle plot."
   ]
  },
  {
   "cell_type": "code",
   "execution_count": null,
   "metadata": {},
   "outputs": [],
   "source": [
    "# lets look at the first six states with highest number of accidents\n",
    "state6 = df_state['NrAccidents'].iloc[:6].sum(axis=0)\n",
    "state_rest = df_new.shape[0] - df_state['NrAccidents'].iloc[:6].sum(axis=0)\n",
    "# plot as waffle\n",
    "data = {'CA, TX, FL, SC, NC, NY': (100*state6/df_new.shape[0]).round(1), 'Other states': (100*state_rest/df_new.shape[0]).round(1)}\n",
    "fig = plt.figure(\n",
    "    figsize=(10, 15),\n",
    "    FigureClass=Waffle, \n",
    "    rows=5, \n",
    "    columns=20,\n",
    "    values=data, \n",
    "    labels=[\"{0} ({1}%)\".format(k, v) for k, v in data.items()],\n",
    "    legend={'loc': 'upper left', 'bbox_to_anchor': (1, 1)}\n",
    "    )\n",
    "plt.show()"
   ]
  },
  {
   "cell_type": "markdown",
   "metadata": {},
   "source": [
    "<a id=\"ref3\"></a>\n",
    "# Impact of Visibility"
   ]
  },
  {
   "cell_type": "markdown",
   "metadata": {},
   "source": [
    "Let us check if the visibility has any noticeable impact on the occurance of accidents."
   ]
  },
  {
   "cell_type": "code",
   "execution_count": null,
   "metadata": {},
   "outputs": [],
   "source": [
    "bins=300\n",
    "plt.figure(figsize=(10, 6))\n",
    "\n",
    "\n",
    "for st in ['CA', 'TX', 'FL', 'SC', 'NC', 'NY']:    \n",
    "    # set s filter\n",
    "    stfilt = (df_new['State'] == st)\n",
    "    plt.hist(df_new.loc[stfilt,'Visibility(mi)'], bins, density=False)\n",
    "plt.xlabel('Visibility(mi)', fontsize=14)\n",
    "plt.ylabel('Number of accidents', fontsize=14)\n",
    "plt.xlim(0,15)\n",
    "plt.grid()\n",
    "plt.show()"
   ]
  },
  {
   "cell_type": "markdown",
   "metadata": {},
   "source": [
    "We can see that the impact of the visibility on the number of accidents is not significant. For instance, in state 'CA', California, occured the largest number of accidents among other states. However, the visibility of theses states are almost same around 10 mi."
   ]
  },
  {
   "cell_type": "markdown",
   "metadata": {},
   "source": [
    "<a id=\"ref4\"></a>\n",
    "# Monthly Distribution"
   ]
  },
  {
   "cell_type": "markdown",
   "metadata": {},
   "source": [
    "Let us perform some timely analysis"
   ]
  },
  {
   "cell_type": "code",
   "execution_count": null,
   "metadata": {},
   "outputs": [],
   "source": [
    "def which_day(date_time):\n",
    "    '''\n",
    "    To find out which weekday according to given timestamp with the format 'yyyy-mm-dd hh:mm:ss'\n",
    "        input: datetime string with the format of 'yyyy-mm-dd hh:mm:ss'\n",
    "        return: nth day of the week\n",
    "    '''\n",
    "    # import time and date modules\n",
    "    from datetime import datetime\n",
    "    # import calendae modules to extract the exact weekday\n",
    "    import calendar\n",
    "    try:\n",
    "        if type(date_time) is str:\n",
    "            my_string=date_time.split(' ')[0]\n",
    "            my_date = datetime.strptime(my_string, \"%Y-%m-%d\")\n",
    "            return my_date.weekday()\n",
    "        else:\n",
    "            raise Exception(\"'date_time' has unexpected data type, it is expected to be a sting\")\n",
    "\n",
    "    except Exception as e:\n",
    "        print(e)\n",
    "# use above function to find which weekday \n",
    "nth_day=[]\n",
    "date_time=[dt for dt in df_new['Start_Time']]\n",
    "for i in range(len(date_time)):\n",
    "    nth_day.append(which_day(date_time[i]))\n",
    "# add four new columns 'year', 'month', 'hour', 'weekday'\n",
    "df_new['year'] = pd.DatetimeIndex(df_new['Start_Time']).year\n",
    "df_new['month'] = pd.DatetimeIndex(df_new['Start_Time']).month\n",
    "df_new['hour'] = pd.DatetimeIndex(df_new['Start_Time']).hour\n",
    "df_new['weekday']=nth_day"
   ]
  },
  {
   "cell_type": "markdown",
   "metadata": {},
   "source": [
    "lets check the shape of the new dataset"
   ]
  },
  {
   "cell_type": "code",
   "execution_count": null,
   "metadata": {},
   "outputs": [],
   "source": [
    "df_new.shape"
   ]
  },
  {
   "cell_type": "code",
   "execution_count": null,
   "metadata": {},
   "outputs": [],
   "source": [
    "df_new.loc[:,['year', 'month', 'hour', 'weekday', 'Start_Time']].head()"
   ]
  },
  {
   "cell_type": "code",
   "execution_count": null,
   "metadata": {},
   "outputs": [],
   "source": [
    "df_month=df_new[df_new['year'].isin(['2016','2017', '2018', '2019'])].groupby(['month'], as_index=False).count().iloc[:,:2]\n",
    "# by changing the argument in 'isin()' one can look at quite directly the change of the accidents during the years,\n",
    "# which I did not do it here.\n",
    "df_month.head()"
   ]
  },
  {
   "cell_type": "code",
   "execution_count": null,
   "metadata": {},
   "outputs": [],
   "source": [
    "# plot data in bar chart\n",
    "ax=df_month.plot(kind='bar', width=0.8, figsize=(10, 6), legend=None)\n",
    "xtick_labels=['Jan.', 'Feb.', 'Mar.', 'Apr.', 'May', 'Jun.', 'Jul.', 'Aug.', 'Sep.', 'Oct.', 'Nov.', 'Dec.']\n",
    "ax.set_xticks(list(df_month.index))\n",
    "ax.set_xticklabels(xtick_labels)\n",
    "ax.set_xlabel('Month', fontsize=14) # add to x-label to the plot\n",
    "ax.set_ylabel('Number of Accidents', fontsize=14) # add y-label to the plot\n",
    "ax.set_title('Number of accidents by each month', fontsize=14) # add title to the plot\n",
    "plt.show()"
   ]
  },
  {
   "cell_type": "code",
   "execution_count": null,
   "metadata": {},
   "outputs": [],
   "source": [
    "wday_filt = (df_new['weekday'].isin([0, 1, 2, 3, 4]))#.to_frame()\n",
    "weekend_filt = (df_new['weekday'].isin([5, 6]))#.to_frame()\n",
    "df_wday = (df_new.loc[wday_filt])[['hour']]#.count().iloc[:, :2]\n",
    "df_weekend = (df_new.loc[weekend_filt])[['hour']]#.count().iloc[:, :2]"
   ]
  },
  {
   "cell_type": "markdown",
   "metadata": {},
   "source": [
    "<a id=\"ref5\"></a>\n",
    "# Hourly Distribution"
   ]
  },
  {
   "cell_type": "code",
   "execution_count": null,
   "metadata": {},
   "outputs": [],
   "source": [
    "# plot the distribution of accidents during the day\n",
    "fig, axes = plt.subplots(nrows=3, ncols=1, figsize=(6, 12), sharex=True)\n",
    "ax0, ax1, ax2 = axes.flatten()\n",
    "bins=24\n",
    "kwargs = dict(bins=24, density=False, histtype='stepfilled', linewidth=3)\n",
    "# ax0\n",
    "ax0.hist(list(df_new['hour']),  **kwargs, color='orange', label='Whole week')\n",
    "ax0.set_ylabel('Number of accidents', fontsize=14)\n",
    "# ax1\n",
    "ax1.hist(list(df_wday['hour']), **kwargs, color='blue', label='Work days')\n",
    "ax1.set_ylabel('Number of accidents', fontsize=14)\n",
    "# ax2\n",
    "ax2.hist(list(df_weekend['hour']),  **kwargs, color='Red', label='Only weekend')\n",
    "ax2.set_ylabel('Number of accidents', fontsize=14)\n",
    "ax2.set_xlabel('Hour', fontsize=14)\n",
    "ax0.legend(); ax1.legend(); ax2.legend()\n",
    "plt.xlim(0, 23)\n",
    "#plt.ylim(0, 2.5e5)\n",
    "plt.show()\n"
   ]
  },
  {
   "cell_type": "markdown",
   "metadata": {},
   "source": [
    "Most of the accidents were during the day time, especially **around rush hours both inthe mornings and afternoons of wor days**. At weekends there are relatively less accidents and most of these accidents are occured from **7:00 AM to 9:00 PM**."
   ]
  },
  {
   "cell_type": "markdown",
   "metadata": {},
   "source": [
    "<a id=\"ref6\"></a>\n",
    "# Distribution Along Weekdays"
   ]
  },
  {
   "cell_type": "code",
   "execution_count": null,
   "metadata": {},
   "outputs": [],
   "source": [
    "df_weekday=df_new.groupby(['weekday'], as_index=False).count().iloc[:,:2]\n",
    "# set the month as the index\n",
    "df_weekday.set_index('weekday', inplace=True)"
   ]
  },
  {
   "cell_type": "code",
   "execution_count": null,
   "metadata": {},
   "outputs": [],
   "source": [
    "# plot data in bar chart\n",
    "labels = ['Mo', 'Tu', 'We', 'Th', 'Fr', 'Sa', 'Su']\n",
    "x = np.arange(len(labels))  # the label locations\n",
    "fig, ax = plt.subplots(figsize=(10, 6))\n",
    "ax1 = ax.bar(x, df_weekday['ID'], width=0.5)\n",
    "#ax1 = ax.plot(x, df_weekday['ID'],marker='o', lw=2)\n",
    "# Add some text for labels, title and custom x-axis tick labels, etc.\n",
    "ax.set_ylabel('Number of accidents', fontsize=14)\n",
    "ax.set_xlabel('Weekday', fontsize=14)\n",
    "ax.set_title('Distribution of accidents along the weekdays', fontsize=14)\n",
    "ax.set_xticks(x)\n",
    "ax.set_xticklabels(labels)\n",
    "\n",
    "#df_weekday.plot(kind='line', figsize=(10, 6), legend=None)\n",
    "\n",
    "#plt.xlabel('Weekday', fontsize=14) # add to x-label to the plot\n",
    "#plt.ylabel('Number of Accidents', fontsize=14) # add y-label to the plot\n",
    "#plt.title('Number of accidents by each state', fontsize=14) # add title to the plot\n",
    "plt.show()"
   ]
  },
  {
   "cell_type": "markdown",
   "metadata": {},
   "source": [
    "From the above plot we can clearly see that there are relatively less accidents on weekends."
   ]
  },
  {
   "cell_type": "markdown",
   "metadata": {},
   "source": [
    "<a id=\"ref7\"></a>\n",
    "# Analysis on the Recorded Accident Descriptions "
   ]
  },
  {
   "cell_type": "code",
   "execution_count": null,
   "metadata": {},
   "outputs": [],
   "source": [
    "!pip install Pillow\n",
    "!pip install wordcloud"
   ]
  },
  {
   "cell_type": "code",
   "execution_count": null,
   "metadata": {},
   "outputs": [],
   "source": [
    "# join all descriptions from all accidents\n",
    "dsc=df_new['Description'].astype(str)\n",
    "# remove non-words\n",
    "#sanitized_text = ' '.join(re.sub(\"(@[A-Za-z0-9]+)|([^0-9A-Za-z \\t]) |(\\w+:\\/\\/\\S+)\", \" \", text).split()) \n",
    "text = \" \".join(desc for desc in dsc)\n",
    "print (\"There are {} words in the combination of all description.\".format(len(text)))"
   ]
  },
  {
   "cell_type": "code",
   "execution_count": null,
   "metadata": {},
   "outputs": [],
   "source": [
    "more_stopwords=[\"accident\", \"due\", \"blocked\", \"Right\", \"hand\"]\n",
    "for more in more_stopwords:\n",
    "    STOPWORDS.add(more)\n",
    "# Generate a word cloud image\n",
    "# lower max_font_size\n",
    "wordcloud = WordCloud(stopwords=STOPWORDS, max_font_size=40, background_color=\"white\").generate(text)\n",
    "plt.figure(figsize=(18, 10))\n",
    "plt.imshow(wordcloud, interpolation=\"bilinear\")\n",
    "plt.axis(\"off\")\n",
    "plt.show\n",
    "# Save the image in the img folder:\n",
    "wordcloud.to_file(\"us_accidents_description.png\")"
   ]
  },
  {
   "cell_type": "markdown",
   "metadata": {},
   "source": [
    "From this WordCloud one can see clearly that there are more accidents around highways (the size of the words directly proportional to their frequencies of appearence in the recorded description of the accidents.) and around the roads of smaller neighborhoods of USA. "
   ]
  },
  {
   "cell_type": "markdown",
   "metadata": {},
   "source": [
    "<a id=\"ref8\"></a>\n",
    "# Impact of the Temperature"
   ]
  },
  {
   "cell_type": "code",
   "execution_count": null,
   "metadata": {},
   "outputs": [],
   "source": [
    "df_T=df_new['Temperature(F)'].values"
   ]
  },
  {
   "cell_type": "code",
   "execution_count": null,
   "metadata": {},
   "outputs": [],
   "source": [
    "'''\n",
    "# lambda function \n",
    "ftoc=lambda f:5/9*(f-32)\n",
    "# function call\n",
    "c=[]\n",
    "for fi in f:\n",
    "    c.append(round(ftoc(ni), 1))\n",
    "c=np.array(c)\n",
    "c\n",
    "'''\n",
    "num_bins = 50\n",
    "\n",
    "fig = plt.figure(figsize=(10, 6))\n",
    "ax1 = fig.add_subplot(111)\n",
    "\n",
    "# the histogram of the data\n",
    "n, bins, patches = ax1.hist(df_T, num_bins, density=0) # set density=1 to normalize\n",
    "# find bincenters\n",
    "# bincenters = 0.5*(bins[1:]+bins[:-1])\n",
    "\n",
    "\n",
    "ax1.set_xlabel(r\"Temperature(°F)\", fontsize=14, color='red')\n",
    "ax1.set_ylabel('Number of accidents', fontsize=14, color='red')\n",
    "ax1.set_xlim(-25, 125) # set xlim \n",
    "# Set the temperature in celisius\n",
    "ax2 = ax1.twiny()\n",
    "ax2.set_xlabel(r\"Temperature(°C)\", fontsize=14, color='red')\n",
    "ax2.set_xlim(ax1.get_xlim())\n",
    "ax2.set_xticks([-58, -13, 32, 77, 122])\n",
    "ax2.set_xticklabels(['-50', '-25', '0','25', '50'])\n",
    "plt.grid()\n",
    "plt.show()"
   ]
  },
  {
   "cell_type": "markdown",
   "metadata": {},
   "source": [
    "This histogram tells us that most of the accidents were happened when the weather were neither too hot nor too cold to go out."
   ]
  },
  {
   "cell_type": "markdown",
   "metadata": {},
   "source": [
    "<a id=\"ref9\"></a>\n",
    "# Quick Check the Impacts of other features "
   ]
  },
  {
   "cell_type": "code",
   "execution_count": null,
   "metadata": {},
   "outputs": [],
   "source": [
    "100*df.Severity.value_counts()/df.shape[0]"
   ]
  },
  {
   "cell_type": "markdown",
   "metadata": {},
   "source": [
    "Accidents with severity level 1, indicates the least impact on traffic (i.e., short delay as a result of the accident), occured barely; with severity level 4,  indicates a significant impact on traffic (i.e., long delay), occured little number of times; with severity level 2 and 3, indicate the impact on traffic is around in midlevel, were occured quite frequently."
   ]
  },
  {
   "cell_type": "code",
   "execution_count": null,
   "metadata": {},
   "outputs": [],
   "source": [
    "df.Stop.value_counts()"
   ]
  },
  {
   "cell_type": "markdown",
   "metadata": {},
   "source": [
    "'Stop' feature does have little impact."
   ]
  },
  {
   "cell_type": "code",
   "execution_count": null,
   "metadata": {},
   "outputs": [],
   "source": [
    "df['Sunrise_Sunset'].value_counts()"
   ]
  },
  {
   "cell_type": "markdown",
   "metadata": {},
   "source": [
    "'Sunrise_Sunset' does have considerable impact that around **26.2%** of whole accidents occured during the night."
   ]
  },
  {
   "cell_type": "code",
   "execution_count": null,
   "metadata": {},
   "outputs": [],
   "source": [
    "df['Traffic_Signal'].value_counts()"
   ]
  },
  {
   "cell_type": "markdown",
   "metadata": {},
   "source": [
    "The 'Traffic_Signal' has also some impact like such that around **16.9%** of whole accidents occured nearby traffic signal locations."
   ]
  },
  {
   "cell_type": "code",
   "execution_count": null,
   "metadata": {},
   "outputs": [],
   "source": [
    "df['Give_Way'].value_counts()"
   ]
  },
  {
   "cell_type": "markdown",
   "metadata": {},
   "source": [
    "This 'Give_Way', indicates traffic signs / rules, hardly have impact on traffic accidents."
   ]
  },
  {
   "cell_type": "markdown",
   "metadata": {},
   "source": [
    "<a id=\"ref10\"></a>\n",
    "# Acknowledgements and References "
   ]
  },
  {
   "cell_type": "markdown",
   "metadata": {},
   "source": [
    "I would like to thank the provider of this dataset! This is my very first Kaggle project, even though there are no any prediction and machine learning type work. I am thinking a way to use classification based on some features who have noticeable impact on the the accidents. \n",
    "\n",
    "During the process of making myself familiar with this dataset I have found two published papers specifically on this dataset. If some one wants more information, please look at the following papers.\n",
    "\n",
    "References:  \n",
    "1. arXiv:1906.05409  \n",
    "2. arXiv:1909.09638\n"
   ]
  },
  {
   "cell_type": "markdown",
   "metadata": {},
   "source": [
    "--------------THE END------------"
   ]
  }
 ],
 "metadata": {
  "kernelspec": {
   "display_name": "Python 3",
   "language": "python",
   "name": "python3"
  },
  "language_info": {
   "codemirror_mode": {
    "name": "ipython",
    "version": 3
   },
   "file_extension": ".py",
   "mimetype": "text/x-python",
   "name": "python",
   "nbconvert_exporter": "python",
   "pygments_lexer": "ipython3",
   "version": "3.6.10"
  }
 },
 "nbformat": 4,
 "nbformat_minor": 4
}
