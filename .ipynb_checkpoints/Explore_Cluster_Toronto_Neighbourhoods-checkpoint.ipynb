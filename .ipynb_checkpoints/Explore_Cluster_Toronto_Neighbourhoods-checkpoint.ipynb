{
 "cells": [
  {
   "cell_type": "markdown",
   "metadata": {},
   "source": [
    "# Exploration and clustering of Totonto neighbourhoods  \n",
    "\n",
    "<h1>Table of contents</h1>\n",
    "\n",
    "<div class=\"alert alert-block alert-info\" style=\"margin-top: 20px\">\n",
    "    <ol>\n",
    "        <li><a href=\"#ref1\">Data Collection</a></li>\n",
    "        <li><a href=\"#ref2\">Data Exploration</a></li>\n",
    "        <li><a href=\"#ref3\">Clustering</a></li>\n",
    "    </ol>\n",
    "</div>\n",
    "<br>\n",
    "<hr>  \n",
    "\n",
    "<h2>\n",
    "<div class=\"alert alert-danger\"\" style=\"margin-top: 20px\">\n",
    "          If the map could NOT be opened, Please view the notebook via Jupyter nbviewer by <br> <a href=\"https://nbviewer.jupyter.org/github/Abdurahman-Amat/Coursera_Capstone/blob/master/Explore_Cluster_Toronto_Neighbourhoods.ipynb\" target=\"_blank\">clicking here </a>, thank you!!!\n",
    "</div>\n",
    "</h2>\n"
   ]
  },
  {
   "cell_type": "markdown",
   "metadata": {},
   "source": [
    "<hr>"
   ]
  },
  {
   "cell_type": "markdown",
   "metadata": {},
   "source": [
    "<a id=\"ref1\"></a>\n",
    "# Data Collection  \n",
    "\n",
    "### Important necessary libraries to collect necessary dataset by doing web scraping and prepare the expected DataFrame"
   ]
  },
  {
   "cell_type": "code",
   "execution_count": 1,
   "metadata": {},
   "outputs": [
    {
     "name": "stdout",
     "output_type": "stream",
     "text": [
      "\n",
      "Libraries are imported.\n"
     ]
    }
   ],
   "source": [
    "import numpy as np\n",
    "from bs4 import BeautifulSoup\n",
    "import requests\n",
    "import pandas as pd\n",
    "import csv\n",
    "# Matplotlib and associated plotting modules\n",
    "import matplotlib.cm as cm\n",
    "import matplotlib.colors as colors\n",
    "#!pip install pgeocode\n",
    "import pgeocode\n",
    "from sty import fg, bg, ef, rs\n",
    "import folium # map rendering library\n",
    "# import k-means from clustering stage\n",
    "from sklearn.cluster import KMeans\n",
    "\n",
    "print('\\nLibraries are imported.')"
   ]
  },
  {
   "cell_type": "markdown",
   "metadata": {},
   "source": [
    "### Perform a little web scraping to get the data  \n",
    "I will use BeautifulSoup to scrape the given website,\n",
    "and save the scraped row data into a CSV file"
   ]
  },
  {
   "cell_type": "code",
   "execution_count": 2,
   "metadata": {},
   "outputs": [],
   "source": [
    "# To get source code of the website\n",
    "main_url = 'https://en.wikipedia.org/wiki/List_of_postal_codes_of_Canada:_M'\n",
    "r = requests.get(main_url)\n",
    "r.encoding = 'utf-8'\n",
    "soup = BeautifulSoup(r.text)\n",
    "# print(soup.prettify())\n",
    "# Noticed that expected information is located within 'table' tag\n",
    "# Therefore make my soup only with the table\n",
    "soup = soup.find('table')\n",
    "#\n",
    "# Open the CSV file\n",
    "csv_file = open('Toronto_Postcode_Borough_Neighbourhood.csv', 'w')\n",
    "# Create the CSV writer object to write contents into CSV file\n",
    "csv_writer = csv.writer(csv_file)\n",
    "for i, soup in enumerate(soup.find_all('tr')):\n",
    "    # print(soup.prettify())\n",
    "    soup_splitted = list(soup.stripped_strings)\n",
    "     # ignore those cells with 'Not assigned' entries for Borough\n",
    "    if soup_splitted[1]!='Not assigned':\n",
    "        # if 'Neighbourhood' is 'Not assigned', then assign the 'Borough' value to it\n",
    "        if soup_splitted[2]=='Not assigned':\n",
    "            csv_writer.writerow([soup_splitted[0], soup_splitted[1], soup_splitted[1]])\n",
    "        else:\n",
    "            csv_writer.writerow([soup_splitted[0], soup_splitted[1], soup_splitted[2]])\n",
    "    else:\n",
    "        pass\n",
    "# Close the CSV file\n",
    "csv_file.close()"
   ]
  },
  {
   "cell_type": "markdown",
   "metadata": {},
   "source": [
    "### Create the Pandas dataframe from above scraped row data"
   ]
  },
  {
   "cell_type": "code",
   "execution_count": 3,
   "metadata": {},
   "outputs": [
    {
     "data": {
      "text/html": [
       "<div>\n",
       "<style scoped>\n",
       "    .dataframe tbody tr th:only-of-type {\n",
       "        vertical-align: middle;\n",
       "    }\n",
       "\n",
       "    .dataframe tbody tr th {\n",
       "        vertical-align: top;\n",
       "    }\n",
       "\n",
       "    .dataframe thead th {\n",
       "        text-align: right;\n",
       "    }\n",
       "</style>\n",
       "<table border=\"1\" class=\"dataframe\">\n",
       "  <thead>\n",
       "    <tr style=\"text-align: right;\">\n",
       "      <th></th>\n",
       "      <th>Postcode</th>\n",
       "      <th>Borough</th>\n",
       "      <th>Neighbourhood</th>\n",
       "    </tr>\n",
       "  </thead>\n",
       "  <tbody>\n",
       "    <tr>\n",
       "      <th>0</th>\n",
       "      <td>M3A</td>\n",
       "      <td>North York</td>\n",
       "      <td>Parkwoods</td>\n",
       "    </tr>\n",
       "    <tr>\n",
       "      <th>1</th>\n",
       "      <td>M4A</td>\n",
       "      <td>North York</td>\n",
       "      <td>Victoria Village</td>\n",
       "    </tr>\n",
       "    <tr>\n",
       "      <th>2</th>\n",
       "      <td>M5A</td>\n",
       "      <td>Downtown Toronto</td>\n",
       "      <td>Harbourfront</td>\n",
       "    </tr>\n",
       "    <tr>\n",
       "      <th>3</th>\n",
       "      <td>M6A</td>\n",
       "      <td>North York</td>\n",
       "      <td>Lawrence Heights</td>\n",
       "    </tr>\n",
       "    <tr>\n",
       "      <th>4</th>\n",
       "      <td>M6A</td>\n",
       "      <td>North York</td>\n",
       "      <td>Lawrence Manor</td>\n",
       "    </tr>\n",
       "    <tr>\n",
       "      <th>5</th>\n",
       "      <td>M7A</td>\n",
       "      <td>Downtown Toronto</td>\n",
       "      <td>Queen's Park</td>\n",
       "    </tr>\n",
       "    <tr>\n",
       "      <th>6</th>\n",
       "      <td>M9A</td>\n",
       "      <td>Queen's Park</td>\n",
       "      <td>Queen's Park</td>\n",
       "    </tr>\n",
       "    <tr>\n",
       "      <th>7</th>\n",
       "      <td>M1B</td>\n",
       "      <td>Scarborough</td>\n",
       "      <td>Rouge</td>\n",
       "    </tr>\n",
       "    <tr>\n",
       "      <th>8</th>\n",
       "      <td>M1B</td>\n",
       "      <td>Scarborough</td>\n",
       "      <td>Malvern</td>\n",
       "    </tr>\n",
       "    <tr>\n",
       "      <th>9</th>\n",
       "      <td>M3B</td>\n",
       "      <td>North York</td>\n",
       "      <td>Don Mills North</td>\n",
       "    </tr>\n",
       "    <tr>\n",
       "      <th>10</th>\n",
       "      <td>M4B</td>\n",
       "      <td>East York</td>\n",
       "      <td>Woodbine Gardens</td>\n",
       "    </tr>\n",
       "    <tr>\n",
       "      <th>11</th>\n",
       "      <td>M4B</td>\n",
       "      <td>East York</td>\n",
       "      <td>Parkview Hill</td>\n",
       "    </tr>\n",
       "  </tbody>\n",
       "</table>\n",
       "</div>"
      ],
      "text/plain": [
       "   Postcode           Borough     Neighbourhood\n",
       "0       M3A        North York         Parkwoods\n",
       "1       M4A        North York  Victoria Village\n",
       "2       M5A  Downtown Toronto      Harbourfront\n",
       "3       M6A        North York  Lawrence Heights\n",
       "4       M6A        North York    Lawrence Manor\n",
       "5       M7A  Downtown Toronto      Queen's Park\n",
       "6       M9A      Queen's Park      Queen's Park\n",
       "7       M1B       Scarborough             Rouge\n",
       "8       M1B       Scarborough           Malvern\n",
       "9       M3B        North York   Don Mills North\n",
       "10      M4B         East York  Woodbine Gardens\n",
       "11      M4B         East York     Parkview Hill"
      ]
     },
     "execution_count": 3,
     "metadata": {},
     "output_type": "execute_result"
    }
   ],
   "source": [
    "# Define the dataframe from the above collected 'csv' file\n",
    "df = pd.read_csv('Toronto_Postcode_Borough_Neighbourhood.csv')\n",
    "# Look at first few entries\n",
    "df.head(12)"
   ]
  },
  {
   "cell_type": "markdown",
   "metadata": {},
   "source": [
    "Check how many entries we have"
   ]
  },
  {
   "cell_type": "code",
   "execution_count": 4,
   "metadata": {},
   "outputs": [
    {
     "data": {
      "text/plain": [
       "(210, 3)"
      ]
     },
     "execution_count": 4,
     "metadata": {},
     "output_type": "execute_result"
    }
   ],
   "source": [
    "df.shape"
   ]
  },
  {
   "cell_type": "code",
   "execution_count": 5,
   "metadata": {},
   "outputs": [
    {
     "data": {
      "text/html": [
       "<div>\n",
       "<style scoped>\n",
       "    .dataframe tbody tr th:only-of-type {\n",
       "        vertical-align: middle;\n",
       "    }\n",
       "\n",
       "    .dataframe tbody tr th {\n",
       "        vertical-align: top;\n",
       "    }\n",
       "\n",
       "    .dataframe thead th {\n",
       "        text-align: right;\n",
       "    }\n",
       "</style>\n",
       "<table border=\"1\" class=\"dataframe\">\n",
       "  <thead>\n",
       "    <tr style=\"text-align: right;\">\n",
       "      <th></th>\n",
       "      <th>Postcode</th>\n",
       "      <th>Borough</th>\n",
       "      <th>Neighbourhood</th>\n",
       "    </tr>\n",
       "  </thead>\n",
       "  <tbody>\n",
       "    <tr>\n",
       "      <th>2</th>\n",
       "      <td>M5A</td>\n",
       "      <td>Downtown Toronto</td>\n",
       "      <td>Harbourfront</td>\n",
       "    </tr>\n",
       "  </tbody>\n",
       "</table>\n",
       "</div>"
      ],
      "text/plain": [
       "  Postcode           Borough Neighbourhood\n",
       "2      M5A  Downtown Toronto  Harbourfront"
      ]
     },
     "execution_count": 5,
     "metadata": {},
     "output_type": "execute_result"
    }
   ],
   "source": [
    "df[df['Postcode']=='M5A']"
   ]
  },
  {
   "cell_type": "code",
   "execution_count": 6,
   "metadata": {},
   "outputs": [],
   "source": [
    "'''\n",
    "This function will emerge all Neighbourhoods for same Postcodes\n",
    "leav unchanged if there is no repeated Postcodes for Neighbourhoods\n",
    "'''\n",
    "def merge_Neighbourhoods(df):\n",
    "    # find repeated Postcode and number of occurances\n",
    "    unique, counts = np.unique(df.iloc[:, 0].values, return_counts=True)\n",
    "    print(f'There are {len(unique)} of unique Postcodes while {df.shape[0]} of Neighbourhoods.\\n So there are many Neighbourhoods are having the same Postcodes.')\n",
    "    # find the index of Postcodes which are occured more than once\n",
    "    repeat_index = np.argwhere(counts>1)\n",
    "    # Postcodes occured more than once\n",
    "    pc_list = unique[repeat_index][:,0]\n",
    "    Ent_list = []\n",
    "    # loop through all unique postal codes to check\n",
    "    # if there is any multiple neighbourhoods for the same postal code\n",
    "    # if so, then join them\n",
    "    for pc in unique: \n",
    "        df_pc = df[df['Postcode']==pc]\n",
    "        # If more than one neighbourhoods for same postal code\n",
    "        if pc in pc_list:\n",
    "            # Then join all neighbourhood names\n",
    "            df_pc_join = ', '.join(df_pc.iloc[:, 2].to_list())\n",
    "            entry = [df_pc.iloc[0, :3][0], df_pc.iloc[0, :3][1], df_pc_join]\n",
    "            Ent_list.append(entry)\n",
    "        # If single neighbourhood for the given postal code\n",
    "        else:\n",
    "            # Then everything is untouched\n",
    "            entry = [df_pc.iloc[0, :3][0], df_pc.iloc[0, :3][1], df_pc.iloc[0, :3][2]]\n",
    "            Ent_list.append(entry)\n",
    "    return Ent_list"
   ]
  },
  {
   "cell_type": "markdown",
   "metadata": {},
   "source": [
    "Apply above prepared function"
   ]
  },
  {
   "cell_type": "code",
   "execution_count": 7,
   "metadata": {},
   "outputs": [
    {
     "name": "stdout",
     "output_type": "stream",
     "text": [
      "There are 103 of unique Postcodes while 210 of Neighbourhoods.\n",
      " So there are many Neighbourhoods are having the same Postcodes.\n"
     ]
    }
   ],
   "source": [
    "new_data_list = merge_Neighbourhoods(df)"
   ]
  },
  {
   "cell_type": "markdown",
   "metadata": {},
   "source": [
    "Check if the function worked as expected"
   ]
  },
  {
   "cell_type": "code",
   "execution_count": 8,
   "metadata": {},
   "outputs": [
    {
     "data": {
      "text/plain": [
       "(103, 3)"
      ]
     },
     "execution_count": 8,
     "metadata": {},
     "output_type": "execute_result"
    }
   ],
   "source": [
    "np.shape(new_data_list)"
   ]
  },
  {
   "cell_type": "markdown",
   "metadata": {},
   "source": [
    "So, it seems the function has done his job  \n",
    "\n",
    "###  Now prepare wanted DataFrame"
   ]
  },
  {
   "cell_type": "code",
   "execution_count": 9,
   "metadata": {},
   "outputs": [],
   "source": [
    "new_df = pd.DataFrame(new_data_list, columns =['Postcode', 'Borough', 'Neighbourhood']) "
   ]
  },
  {
   "cell_type": "markdown",
   "metadata": {},
   "source": [
    "Check the data frame"
   ]
  },
  {
   "cell_type": "code",
   "execution_count": 10,
   "metadata": {},
   "outputs": [
    {
     "data": {
      "text/html": [
       "<div>\n",
       "<style scoped>\n",
       "    .dataframe tbody tr th:only-of-type {\n",
       "        vertical-align: middle;\n",
       "    }\n",
       "\n",
       "    .dataframe tbody tr th {\n",
       "        vertical-align: top;\n",
       "    }\n",
       "\n",
       "    .dataframe thead th {\n",
       "        text-align: right;\n",
       "    }\n",
       "</style>\n",
       "<table border=\"1\" class=\"dataframe\">\n",
       "  <thead>\n",
       "    <tr style=\"text-align: right;\">\n",
       "      <th></th>\n",
       "      <th>Postcode</th>\n",
       "      <th>Borough</th>\n",
       "      <th>Neighbourhood</th>\n",
       "    </tr>\n",
       "  </thead>\n",
       "  <tbody>\n",
       "    <tr>\n",
       "      <th>0</th>\n",
       "      <td>M1B</td>\n",
       "      <td>Scarborough</td>\n",
       "      <td>Rouge, Malvern</td>\n",
       "    </tr>\n",
       "    <tr>\n",
       "      <th>1</th>\n",
       "      <td>M1C</td>\n",
       "      <td>Scarborough</td>\n",
       "      <td>Highland Creek, Rouge Hill, Port Union</td>\n",
       "    </tr>\n",
       "    <tr>\n",
       "      <th>2</th>\n",
       "      <td>M1E</td>\n",
       "      <td>Scarborough</td>\n",
       "      <td>Guildwood, Morningside, West Hill</td>\n",
       "    </tr>\n",
       "    <tr>\n",
       "      <th>3</th>\n",
       "      <td>M1G</td>\n",
       "      <td>Scarborough</td>\n",
       "      <td>Woburn</td>\n",
       "    </tr>\n",
       "    <tr>\n",
       "      <th>4</th>\n",
       "      <td>M1H</td>\n",
       "      <td>Scarborough</td>\n",
       "      <td>Cedarbrae</td>\n",
       "    </tr>\n",
       "  </tbody>\n",
       "</table>\n",
       "</div>"
      ],
      "text/plain": [
       "  Postcode      Borough                           Neighbourhood\n",
       "0      M1B  Scarborough                          Rouge, Malvern\n",
       "1      M1C  Scarborough  Highland Creek, Rouge Hill, Port Union\n",
       "2      M1E  Scarborough       Guildwood, Morningside, West Hill\n",
       "3      M1G  Scarborough                                  Woburn\n",
       "4      M1H  Scarborough                               Cedarbrae"
      ]
     },
     "execution_count": 10,
     "metadata": {},
     "output_type": "execute_result"
    }
   ],
   "source": [
    "new_df.head()"
   ]
  },
  {
   "cell_type": "code",
   "execution_count": 11,
   "metadata": {},
   "outputs": [
    {
     "data": {
      "text/html": [
       "<div>\n",
       "<style scoped>\n",
       "    .dataframe tbody tr th:only-of-type {\n",
       "        vertical-align: middle;\n",
       "    }\n",
       "\n",
       "    .dataframe tbody tr th {\n",
       "        vertical-align: top;\n",
       "    }\n",
       "\n",
       "    .dataframe thead th {\n",
       "        text-align: right;\n",
       "    }\n",
       "</style>\n",
       "<table border=\"1\" class=\"dataframe\">\n",
       "  <thead>\n",
       "    <tr style=\"text-align: right;\">\n",
       "      <th></th>\n",
       "      <th>Postcode</th>\n",
       "      <th>Borough</th>\n",
       "      <th>Neighbourhood</th>\n",
       "    </tr>\n",
       "  </thead>\n",
       "  <tbody>\n",
       "    <tr>\n",
       "      <th>53</th>\n",
       "      <td>M5A</td>\n",
       "      <td>Downtown Toronto</td>\n",
       "      <td>Harbourfront</td>\n",
       "    </tr>\n",
       "  </tbody>\n",
       "</table>\n",
       "</div>"
      ],
      "text/plain": [
       "   Postcode           Borough Neighbourhood\n",
       "53      M5A  Downtown Toronto  Harbourfront"
      ]
     },
     "execution_count": 11,
     "metadata": {},
     "output_type": "execute_result"
    }
   ],
   "source": [
    "new_df[new_df['Postcode']=='M5A']"
   ]
  },
  {
   "cell_type": "markdown",
   "metadata": {},
   "source": [
    "### Shape of the dataset"
   ]
  },
  {
   "cell_type": "code",
   "execution_count": 12,
   "metadata": {},
   "outputs": [
    {
     "data": {
      "text/plain": [
       "(103, 3)"
      ]
     },
     "execution_count": 12,
     "metadata": {},
     "output_type": "execute_result"
    }
   ],
   "source": [
    "new_df.shape"
   ]
  },
  {
   "cell_type": "markdown",
   "metadata": {},
   "source": [
    "<hr>"
   ]
  },
  {
   "cell_type": "markdown",
   "metadata": {},
   "source": [
    "### Prepare the location dataset "
   ]
  },
  {
   "cell_type": "code",
   "execution_count": 13,
   "metadata": {},
   "outputs": [],
   "source": [
    "# #!pip install geocoder\n",
    "# import geocoder # import geocoder\n",
    "\n",
    "# # initialize your variable to None\n",
    "# lat_lng_coords = None\n",
    "\n",
    "# # loop until you get the coordinates\n",
    "# while(lat_lng_coords is None):\n",
    "#   g = geocoder.google('{}, Toronto, Ontario'.format('M1E'))\n",
    "#   lat_lng_coords = g.latlng\n",
    "\n",
    "# latitude = lat_lng_coords[0]\n",
    "# longitude = lat_lng_coords[1]\n",
    "# print(latitude, longitude)"
   ]
  },
  {
   "cell_type": "markdown",
   "metadata": {},
   "source": [
    "Above method to collect location data of Toronto Neighbourhoods didn't work even for waiting long time (few minutes).  "
   ]
  },
  {
   "cell_type": "markdown",
   "metadata": {},
   "source": [
    "### Then tried other method via the library **pgeocode**"
   ]
  },
  {
   "cell_type": "code",
   "execution_count": 14,
   "metadata": {},
   "outputs": [
    {
     "name": "stdout",
     "output_type": "stream",
     "text": [
      "Postcode is \u001b[31mM1B\u001b[39m, latitude is \u001b[31m43.81130\u001b[39m, longitude is \u001b[31m-79.19300\u001b[39m\n",
      "Postcode is \u001b[31mM1C\u001b[39m, latitude is \u001b[31m43.78780\u001b[39m, longitude is \u001b[31m-79.15640\u001b[39m\n",
      "Postcode is \u001b[31mM1E\u001b[39m, latitude is \u001b[31m43.76780\u001b[39m, longitude is \u001b[31m-79.18660\u001b[39m\n",
      "Postcode is \u001b[31mM1G\u001b[39m, latitude is \u001b[31m43.77120\u001b[39m, longitude is \u001b[31m-79.21440\u001b[39m\n",
      "Postcode is \u001b[31mM1H\u001b[39m, latitude is \u001b[31m43.76860\u001b[39m, longitude is \u001b[31m-79.23890\u001b[39m\n",
      "Postcode is \u001b[31mM1J\u001b[39m, latitude is \u001b[31m43.74640\u001b[39m, longitude is \u001b[31m-79.23230\u001b[39m\n",
      "Postcode is \u001b[31mM1K\u001b[39m, latitude is \u001b[31m43.72980\u001b[39m, longitude is \u001b[31m-79.26390\u001b[39m\n",
      "Postcode is \u001b[31mM1L\u001b[39m, latitude is \u001b[31m43.71220\u001b[39m, longitude is \u001b[31m-79.28430\u001b[39m\n",
      "Postcode is \u001b[31mM1M\u001b[39m, latitude is \u001b[31m43.72470\u001b[39m, longitude is \u001b[31m-79.23120\u001b[39m\n",
      "Postcode is \u001b[31mM1N\u001b[39m, latitude is \u001b[31m43.69520\u001b[39m, longitude is \u001b[31m-79.26460\u001b[39m\n",
      "Postcode is \u001b[31mM1P\u001b[39m, latitude is \u001b[31m43.76120\u001b[39m, longitude is \u001b[31m-79.27070\u001b[39m\n",
      "Postcode is \u001b[31mM1R\u001b[39m, latitude is \u001b[31m43.75070\u001b[39m, longitude is \u001b[31m-79.30030\u001b[39m\n",
      "Postcode is \u001b[31mM1S\u001b[39m, latitude is \u001b[31m43.79460\u001b[39m, longitude is \u001b[31m-79.26440\u001b[39m\n",
      "Postcode is \u001b[31mM1T\u001b[39m, latitude is \u001b[31m43.78120\u001b[39m, longitude is \u001b[31m-79.30360\u001b[39m\n",
      "Postcode is \u001b[31mM1V\u001b[39m, latitude is \u001b[31m43.81770\u001b[39m, longitude is \u001b[31m-79.28190\u001b[39m\n",
      "Postcode is \u001b[31mM1W\u001b[39m, latitude is \u001b[31m43.80160\u001b[39m, longitude is \u001b[31m-79.32160\u001b[39m\n",
      "Postcode is \u001b[31mM1X\u001b[39m, latitude is \u001b[31m43.83400\u001b[39m, longitude is \u001b[31m-79.20690\u001b[39m\n",
      "Postcode is \u001b[31mM2H\u001b[39m, latitude is \u001b[31m43.80150\u001b[39m, longitude is \u001b[31m-79.35770\u001b[39m\n",
      "Postcode is \u001b[31mM2J\u001b[39m, latitude is \u001b[31m43.78010\u001b[39m, longitude is \u001b[31m-79.34790\u001b[39m\n",
      "Postcode is \u001b[31mM2K\u001b[39m, latitude is \u001b[31m43.77970\u001b[39m, longitude is \u001b[31m-79.38130\u001b[39m\n",
      "Postcode is \u001b[31mM2L\u001b[39m, latitude is \u001b[31m43.75470\u001b[39m, longitude is \u001b[31m-79.37640\u001b[39m\n",
      "Postcode is \u001b[31mM2M\u001b[39m, latitude is \u001b[31m43.79150\u001b[39m, longitude is \u001b[31m-79.41030\u001b[39m\n",
      "Postcode is \u001b[31mM2N\u001b[39m, latitude is \u001b[31m43.76730\u001b[39m, longitude is \u001b[31m-79.41110\u001b[39m\n",
      "Postcode is \u001b[31mM2P\u001b[39m, latitude is \u001b[31m43.75000\u001b[39m, longitude is \u001b[31m-79.39780\u001b[39m\n",
      "Postcode is \u001b[31mM2R\u001b[39m, latitude is \u001b[31m43.77860\u001b[39m, longitude is \u001b[31m-79.44500\u001b[39m\n",
      "Postcode is \u001b[31mM3A\u001b[39m, latitude is \u001b[31m43.75450\u001b[39m, longitude is \u001b[31m-79.33000\u001b[39m\n",
      "Postcode is \u001b[31mM3B\u001b[39m, latitude is \u001b[31m43.74500\u001b[39m, longitude is \u001b[31m-79.35900\u001b[39m\n",
      "Postcode is \u001b[31mM3C\u001b[39m, latitude is \u001b[31m43.73340\u001b[39m, longitude is \u001b[31m-79.33290\u001b[39m\n",
      "Postcode is \u001b[31mM3H\u001b[39m, latitude is \u001b[31m43.75350\u001b[39m, longitude is \u001b[31m-79.44720\u001b[39m\n",
      "Postcode is \u001b[31mM3J\u001b[39m, latitude is \u001b[31m43.76940\u001b[39m, longitude is \u001b[31m-79.49210\u001b[39m\n",
      "Postcode is \u001b[31mM3K\u001b[39m, latitude is \u001b[31m43.73900\u001b[39m, longitude is \u001b[31m-79.46920\u001b[39m\n",
      "Postcode is \u001b[31mM3L\u001b[39m, latitude is \u001b[31m43.73340\u001b[39m, longitude is \u001b[31m-79.51160\u001b[39m\n",
      "Postcode is \u001b[31mM3M\u001b[39m, latitude is \u001b[31m43.73190\u001b[39m, longitude is \u001b[31m-79.49280\u001b[39m\n",
      "Postcode is \u001b[31mM3N\u001b[39m, latitude is \u001b[31m43.75680\u001b[39m, longitude is \u001b[31m-79.52100\u001b[39m\n",
      "Postcode is \u001b[31mM4A\u001b[39m, latitude is \u001b[31m43.72760\u001b[39m, longitude is \u001b[31m-79.31480\u001b[39m\n",
      "Postcode is \u001b[31mM4B\u001b[39m, latitude is \u001b[31m43.70630\u001b[39m, longitude is \u001b[31m-79.30940\u001b[39m\n",
      "Postcode is \u001b[31mM4C\u001b[39m, latitude is \u001b[31m43.69130\u001b[39m, longitude is \u001b[31m-79.31160\u001b[39m\n",
      "Postcode is \u001b[31mM4E\u001b[39m, latitude is \u001b[31m43.67840\u001b[39m, longitude is \u001b[31m-79.29410\u001b[39m\n",
      "Postcode is \u001b[31mM4G\u001b[39m, latitude is \u001b[31m43.71240\u001b[39m, longitude is \u001b[31m-79.36440\u001b[39m\n",
      "Postcode is \u001b[31mM4H\u001b[39m, latitude is \u001b[31m43.70590\u001b[39m, longitude is \u001b[31m-79.34640\u001b[39m\n",
      "Postcode is \u001b[31mM4J\u001b[39m, latitude is \u001b[31m43.68720\u001b[39m, longitude is \u001b[31m-79.33680\u001b[39m\n",
      "Postcode is \u001b[31mM4K\u001b[39m, latitude is \u001b[31m43.68030\u001b[39m, longitude is \u001b[31m-79.35380\u001b[39m\n",
      "Postcode is \u001b[31mM4L\u001b[39m, latitude is \u001b[31m43.66930\u001b[39m, longitude is \u001b[31m-79.31550\u001b[39m\n",
      "Postcode is \u001b[31mM4M\u001b[39m, latitude is \u001b[31m43.65610\u001b[39m, longitude is \u001b[31m-79.34060\u001b[39m\n",
      "Postcode is \u001b[31mM4N\u001b[39m, latitude is \u001b[31m43.73010\u001b[39m, longitude is \u001b[31m-79.39350\u001b[39m\n",
      "Postcode is \u001b[31mM4P\u001b[39m, latitude is \u001b[31m43.71350\u001b[39m, longitude is \u001b[31m-79.38870\u001b[39m\n",
      "Postcode is \u001b[31mM4R\u001b[39m, latitude is \u001b[31m43.71430\u001b[39m, longitude is \u001b[31m-79.40650\u001b[39m\n",
      "Postcode is \u001b[31mM4S\u001b[39m, latitude is \u001b[31m43.70200\u001b[39m, longitude is \u001b[31m-79.38530\u001b[39m\n",
      "Postcode is \u001b[31mM4T\u001b[39m, latitude is \u001b[31m43.68990\u001b[39m, longitude is \u001b[31m-79.38530\u001b[39m\n",
      "Postcode is \u001b[31mM4V\u001b[39m, latitude is \u001b[31m43.68610\u001b[39m, longitude is \u001b[31m-79.40250\u001b[39m\n",
      "Postcode is \u001b[31mM4W\u001b[39m, latitude is \u001b[31m43.68270\u001b[39m, longitude is \u001b[31m-79.37300\u001b[39m\n",
      "Postcode is \u001b[31mM4X\u001b[39m, latitude is \u001b[31m43.66840\u001b[39m, longitude is \u001b[31m-79.36890\u001b[39m\n",
      "Postcode is \u001b[31mM4Y\u001b[39m, latitude is \u001b[31m43.66560\u001b[39m, longitude is \u001b[31m-79.38300\u001b[39m\n",
      "Postcode is \u001b[31mM5A\u001b[39m, latitude is \u001b[31m43.65550\u001b[39m, longitude is \u001b[31m-79.36260\u001b[39m\n",
      "Postcode is \u001b[31mM5B\u001b[39m, latitude is \u001b[31m43.65720\u001b[39m, longitude is \u001b[31m-79.37830\u001b[39m\n",
      "Postcode is \u001b[31mM5C\u001b[39m, latitude is \u001b[31m43.65130\u001b[39m, longitude is \u001b[31m-79.37560\u001b[39m\n",
      "Postcode is \u001b[31mM5E\u001b[39m, latitude is \u001b[31m43.64560\u001b[39m, longitude is \u001b[31m-79.37540\u001b[39m\n",
      "Postcode is \u001b[31mM5G\u001b[39m, latitude is \u001b[31m43.65640\u001b[39m, longitude is \u001b[31m-79.38600\u001b[39m\n",
      "Postcode is \u001b[31mM5H\u001b[39m, latitude is \u001b[31m43.64960\u001b[39m, longitude is \u001b[31m-79.38330\u001b[39m\n",
      "Postcode is \u001b[31mM5J\u001b[39m, latitude is \u001b[31m43.62300\u001b[39m, longitude is \u001b[31m-79.39360\u001b[39m\n",
      "Postcode is \u001b[31mM5K\u001b[39m, latitude is \u001b[31m43.64690\u001b[39m, longitude is \u001b[31m-79.38230\u001b[39m\n",
      "Postcode is \u001b[31mM5L\u001b[39m, latitude is \u001b[31m43.64920\u001b[39m, longitude is \u001b[31m-79.38230\u001b[39m\n",
      "Postcode is \u001b[31mM5M\u001b[39m, latitude is \u001b[31m43.73350\u001b[39m, longitude is \u001b[31m-79.41770\u001b[39m\n",
      "Postcode is \u001b[31mM5N\u001b[39m, latitude is \u001b[31m43.71130\u001b[39m, longitude is \u001b[31m-79.41950\u001b[39m\n",
      "Postcode is \u001b[31mM5P\u001b[39m, latitude is \u001b[31m43.69660\u001b[39m, longitude is \u001b[31m-79.41200\u001b[39m\n",
      "Postcode is \u001b[31mM5R\u001b[39m, latitude is \u001b[31m43.67360\u001b[39m, longitude is \u001b[31m-79.40350\u001b[39m\n",
      "Postcode is \u001b[31mM5S\u001b[39m, latitude is \u001b[31m43.66290\u001b[39m, longitude is \u001b[31m-79.39870\u001b[39m\n",
      "Postcode is \u001b[31mM5T\u001b[39m, latitude is \u001b[31m43.65410\u001b[39m, longitude is \u001b[31m-79.39780\u001b[39m\n",
      "Postcode is \u001b[31mM5V\u001b[39m, latitude is \u001b[31m43.64040\u001b[39m, longitude is \u001b[31m-79.39950\u001b[39m\n",
      "Postcode is \u001b[31mM5W\u001b[39m, latitude is \u001b[31m43.64370\u001b[39m, longitude is \u001b[31m-79.37870\u001b[39m\n",
      "Postcode is \u001b[31mM5X\u001b[39m, latitude is \u001b[31m43.64920\u001b[39m, longitude is \u001b[31m-79.38230\u001b[39m\n",
      "Postcode is \u001b[31mM6A\u001b[39m, latitude is \u001b[31m43.72230\u001b[39m, longitude is \u001b[31m-79.45040\u001b[39m\n",
      "Postcode is \u001b[31mM6B\u001b[39m, latitude is \u001b[31m43.70810\u001b[39m, longitude is \u001b[31m-79.44790\u001b[39m\n",
      "Postcode is \u001b[31mM6C\u001b[39m, latitude is \u001b[31m43.69150\u001b[39m, longitude is \u001b[31m-79.43070\u001b[39m\n",
      "Postcode is \u001b[31mM6E\u001b[39m, latitude is \u001b[31m43.68890\u001b[39m, longitude is \u001b[31m-79.45070\u001b[39m\n",
      "Postcode is \u001b[31mM6G\u001b[39m, latitude is \u001b[31m43.66830\u001b[39m, longitude is \u001b[31m-79.42050\u001b[39m\n",
      "Postcode is \u001b[31mM6H\u001b[39m, latitude is \u001b[31m43.66550\u001b[39m, longitude is \u001b[31m-79.43780\u001b[39m\n",
      "Postcode is \u001b[31mM6J\u001b[39m, latitude is \u001b[31m43.64800\u001b[39m, longitude is \u001b[31m-79.41770\u001b[39m\n",
      "Postcode is \u001b[31mM6K\u001b[39m, latitude is \u001b[31m43.63830\u001b[39m, longitude is \u001b[31m-79.43010\u001b[39m\n",
      "Postcode is \u001b[31mM6L\u001b[39m, latitude is \u001b[31m43.71370\u001b[39m, longitude is \u001b[31m-79.48690\u001b[39m\n",
      "Postcode is \u001b[31mM6M\u001b[39m, latitude is \u001b[31m43.69340\u001b[39m, longitude is \u001b[31m-79.48570\u001b[39m\n",
      "Postcode is \u001b[31mM6N\u001b[39m, latitude is \u001b[31m43.67480\u001b[39m, longitude is \u001b[31m-79.48390\u001b[39m\n",
      "Postcode is \u001b[31mM6P\u001b[39m, latitude is \u001b[31m43.66050\u001b[39m, longitude is \u001b[31m-79.46330\u001b[39m\n",
      "Postcode is \u001b[31mM6R\u001b[39m, latitude is \u001b[31m43.64690\u001b[39m, longitude is \u001b[31m-79.45210\u001b[39m\n",
      "Postcode is \u001b[31mM6S\u001b[39m, latitude is \u001b[31m43.65120\u001b[39m, longitude is \u001b[31m-79.48280\u001b[39m\n",
      "Postcode is \u001b[31mM7A\u001b[39m, latitude is \u001b[31m43.66410\u001b[39m, longitude is \u001b[31m-79.38890\u001b[39m\n",
      "Postcode is \u001b[31mM7R\u001b[39m, latitude is \u001b[31mnan\u001b[39m, longitude is \u001b[31mnan\u001b[39m\n",
      "Postcode is \u001b[31mM7Y\u001b[39m, latitude is \u001b[31m43.78040\u001b[39m, longitude is \u001b[31m-79.25050\u001b[39m\n",
      "Postcode is \u001b[31mM8V\u001b[39m, latitude is \u001b[31m43.60750\u001b[39m, longitude is \u001b[31m-79.50130\u001b[39m\n",
      "Postcode is \u001b[31mM8W\u001b[39m, latitude is \u001b[31m43.60210\u001b[39m, longitude is \u001b[31m-79.54020\u001b[39m\n",
      "Postcode is \u001b[31mM8X\u001b[39m, latitude is \u001b[31m43.65180\u001b[39m, longitude is \u001b[31m-79.50760\u001b[39m\n",
      "Postcode is \u001b[31mM8Y\u001b[39m, latitude is \u001b[31m43.63250\u001b[39m, longitude is \u001b[31m-79.49390\u001b[39m\n",
      "Postcode is \u001b[31mM8Z\u001b[39m, latitude is \u001b[31m43.62560\u001b[39m, longitude is \u001b[31m-79.52310\u001b[39m\n",
      "Postcode is \u001b[31mM9A\u001b[39m, latitude is \u001b[31m43.66620\u001b[39m, longitude is \u001b[31m-79.52820\u001b[39m\n",
      "Postcode is \u001b[31mM9B\u001b[39m, latitude is \u001b[31m43.65050\u001b[39m, longitude is \u001b[31m-79.55170\u001b[39m\n",
      "Postcode is \u001b[31mM9C\u001b[39m, latitude is \u001b[31m43.64370\u001b[39m, longitude is \u001b[31m-79.57670\u001b[39m\n",
      "Postcode is \u001b[31mM9L\u001b[39m, latitude is \u001b[31m43.75980\u001b[39m, longitude is \u001b[31m-79.55650\u001b[39m\n",
      "Postcode is \u001b[31mM9M\u001b[39m, latitude is \u001b[31m43.73660\u001b[39m, longitude is \u001b[31m-79.54010\u001b[39m\n",
      "Postcode is \u001b[31mM9N\u001b[39m, latitude is \u001b[31m43.70680\u001b[39m, longitude is \u001b[31m-79.51700\u001b[39m\n",
      "Postcode is \u001b[31mM9P\u001b[39m, latitude is \u001b[31m43.69490\u001b[39m, longitude is \u001b[31m-79.53230\u001b[39m\n",
      "Postcode is \u001b[31mM9R\u001b[39m, latitude is \u001b[31m43.68980\u001b[39m, longitude is \u001b[31m-79.55820\u001b[39m\n",
      "Postcode is \u001b[31mM9V\u001b[39m, latitude is \u001b[31m43.74320\u001b[39m, longitude is \u001b[31m-79.58760\u001b[39m\n",
      "Postcode is \u001b[31mM9W\u001b[39m, latitude is \u001b[31m43.71440\u001b[39m, longitude is \u001b[31m-79.59090\u001b[39m\n"
     ]
    }
   ],
   "source": [
    "nomi = pgeocode.Nominatim('ca') # 'ca' for Canada\n",
    "for p_code in new_df['Postcode']: # for all Neighbourhoods by their postal codes\n",
    "    locinfo = nomi.query_postal_code(p_code)\n",
    "    #!pip install sty # umcomment when sty is not already installed\n",
    "    print(f'Postcode is '+fg.red + f'{p_code}' + fg.rs+', latitude is '+fg.red + f'{locinfo[9]:.5f}' + fg.rs+', longitude is '+fg.red + f'{locinfo[10]:.5f}' + fg.rs)"
   ]
  },
  {
   "cell_type": "markdown",
   "metadata": {},
   "source": [
    "It is very fast and correct as given in the additional location data 'Geospatial_Coordinates.csv',  \n",
    "However, it could not found latitude and longitude for the neighbourhood with postcode 'M7R'. In addition to this,  \n",
    "the location data has different precisions, e.g , both latitude and longitude in provided location data table have upto six digit of precision while the queried data via **pgeocode** have only upto 4 digits and most of the location data were different after the first or second digits.  *Therefore I wanna use the provided location table.*"
   ]
  },
  {
   "cell_type": "markdown",
   "metadata": {},
   "source": [
    "### Load the provided location data and read it into Pandas DataFrame"
   ]
  },
  {
   "cell_type": "code",
   "execution_count": 15,
   "metadata": {},
   "outputs": [
    {
     "data": {
      "text/html": [
       "<div>\n",
       "<style scoped>\n",
       "    .dataframe tbody tr th:only-of-type {\n",
       "        vertical-align: middle;\n",
       "    }\n",
       "\n",
       "    .dataframe tbody tr th {\n",
       "        vertical-align: top;\n",
       "    }\n",
       "\n",
       "    .dataframe thead th {\n",
       "        text-align: right;\n",
       "    }\n",
       "</style>\n",
       "<table border=\"1\" class=\"dataframe\">\n",
       "  <thead>\n",
       "    <tr style=\"text-align: right;\">\n",
       "      <th></th>\n",
       "      <th>Postal Code</th>\n",
       "      <th>Latitude</th>\n",
       "      <th>Longitude</th>\n",
       "    </tr>\n",
       "  </thead>\n",
       "  <tbody>\n",
       "    <tr>\n",
       "      <th>0</th>\n",
       "      <td>M1B</td>\n",
       "      <td>43.806686</td>\n",
       "      <td>-79.194353</td>\n",
       "    </tr>\n",
       "    <tr>\n",
       "      <th>1</th>\n",
       "      <td>M1C</td>\n",
       "      <td>43.784535</td>\n",
       "      <td>-79.160497</td>\n",
       "    </tr>\n",
       "    <tr>\n",
       "      <th>2</th>\n",
       "      <td>M1E</td>\n",
       "      <td>43.763573</td>\n",
       "      <td>-79.188711</td>\n",
       "    </tr>\n",
       "    <tr>\n",
       "      <th>3</th>\n",
       "      <td>M1G</td>\n",
       "      <td>43.770992</td>\n",
       "      <td>-79.216917</td>\n",
       "    </tr>\n",
       "    <tr>\n",
       "      <th>4</th>\n",
       "      <td>M1H</td>\n",
       "      <td>43.773136</td>\n",
       "      <td>-79.239476</td>\n",
       "    </tr>\n",
       "  </tbody>\n",
       "</table>\n",
       "</div>"
      ],
      "text/plain": [
       "  Postal Code   Latitude  Longitude\n",
       "0         M1B  43.806686 -79.194353\n",
       "1         M1C  43.784535 -79.160497\n",
       "2         M1E  43.763573 -79.188711\n",
       "3         M1G  43.770992 -79.216917\n",
       "4         M1H  43.773136 -79.239476"
      ]
     },
     "execution_count": 15,
     "metadata": {},
     "output_type": "execute_result"
    }
   ],
   "source": [
    "loc_df = pd.read_csv(r'C:\\pythonwork\\data\\Geospatial_Coordinates.csv')\n",
    "loc_df.head()"
   ]
  },
  {
   "cell_type": "code",
   "execution_count": 16,
   "metadata": {},
   "outputs": [
    {
     "data": {
      "text/plain": [
       "(103, 3)"
      ]
     },
     "execution_count": 16,
     "metadata": {},
     "output_type": "execute_result"
    }
   ],
   "source": [
    "# check if we have the full location info\n",
    "loc_df.shape "
   ]
  },
  {
   "cell_type": "code",
   "execution_count": 17,
   "metadata": {},
   "outputs": [
    {
     "data": {
      "text/plain": [
       "Postal Code    0\n",
       "Latitude       0\n",
       "Longitude      0\n",
       "dtype: int64"
      ]
     },
     "execution_count": 17,
     "metadata": {},
     "output_type": "execute_result"
    }
   ],
   "source": [
    "# just to quick ckeck to make sure there is no missing values which may couse errors\n",
    "# in upcomming procedures of this project\n",
    "loc_df.isna().sum()"
   ]
  },
  {
   "cell_type": "markdown",
   "metadata": {},
   "source": [
    "There is no missing values, that is good."
   ]
  },
  {
   "cell_type": "code",
   "execution_count": 18,
   "metadata": {},
   "outputs": [],
   "source": [
    "# Rename the column to make it easier to merge this location data with above neighbourhood data\n",
    "loc_df.rename(columns={\"Postal Code\":\"Postcode\"}, inplace=True)"
   ]
  },
  {
   "cell_type": "code",
   "execution_count": 19,
   "metadata": {},
   "outputs": [
    {
     "data": {
      "text/html": [
       "<div>\n",
       "<style scoped>\n",
       "    .dataframe tbody tr th:only-of-type {\n",
       "        vertical-align: middle;\n",
       "    }\n",
       "\n",
       "    .dataframe tbody tr th {\n",
       "        vertical-align: top;\n",
       "    }\n",
       "\n",
       "    .dataframe thead th {\n",
       "        text-align: right;\n",
       "    }\n",
       "</style>\n",
       "<table border=\"1\" class=\"dataframe\">\n",
       "  <thead>\n",
       "    <tr style=\"text-align: right;\">\n",
       "      <th></th>\n",
       "      <th>Postcode</th>\n",
       "      <th>Latitude</th>\n",
       "      <th>Longitude</th>\n",
       "    </tr>\n",
       "  </thead>\n",
       "  <tbody>\n",
       "    <tr>\n",
       "      <th>0</th>\n",
       "      <td>M1B</td>\n",
       "      <td>43.806686</td>\n",
       "      <td>-79.194353</td>\n",
       "    </tr>\n",
       "    <tr>\n",
       "      <th>1</th>\n",
       "      <td>M1C</td>\n",
       "      <td>43.784535</td>\n",
       "      <td>-79.160497</td>\n",
       "    </tr>\n",
       "    <tr>\n",
       "      <th>2</th>\n",
       "      <td>M1E</td>\n",
       "      <td>43.763573</td>\n",
       "      <td>-79.188711</td>\n",
       "    </tr>\n",
       "    <tr>\n",
       "      <th>3</th>\n",
       "      <td>M1G</td>\n",
       "      <td>43.770992</td>\n",
       "      <td>-79.216917</td>\n",
       "    </tr>\n",
       "    <tr>\n",
       "      <th>4</th>\n",
       "      <td>M1H</td>\n",
       "      <td>43.773136</td>\n",
       "      <td>-79.239476</td>\n",
       "    </tr>\n",
       "  </tbody>\n",
       "</table>\n",
       "</div>"
      ],
      "text/plain": [
       "  Postcode   Latitude  Longitude\n",
       "0      M1B  43.806686 -79.194353\n",
       "1      M1C  43.784535 -79.160497\n",
       "2      M1E  43.763573 -79.188711\n",
       "3      M1G  43.770992 -79.216917\n",
       "4      M1H  43.773136 -79.239476"
      ]
     },
     "execution_count": 19,
     "metadata": {},
     "output_type": "execute_result"
    }
   ],
   "source": [
    "loc_df.head()"
   ]
  },
  {
   "cell_type": "markdown",
   "metadata": {},
   "source": [
    " Merge above two datasets to get expected dataset"
   ]
  },
  {
   "cell_type": "code",
   "execution_count": 20,
   "metadata": {},
   "outputs": [
    {
     "data": {
      "text/html": [
       "<div>\n",
       "<style scoped>\n",
       "    .dataframe tbody tr th:only-of-type {\n",
       "        vertical-align: middle;\n",
       "    }\n",
       "\n",
       "    .dataframe tbody tr th {\n",
       "        vertical-align: top;\n",
       "    }\n",
       "\n",
       "    .dataframe thead th {\n",
       "        text-align: right;\n",
       "    }\n",
       "</style>\n",
       "<table border=\"1\" class=\"dataframe\">\n",
       "  <thead>\n",
       "    <tr style=\"text-align: right;\">\n",
       "      <th></th>\n",
       "      <th>Postcode</th>\n",
       "      <th>Borough</th>\n",
       "      <th>Neighbourhood</th>\n",
       "      <th>Latitude</th>\n",
       "      <th>Longitude</th>\n",
       "    </tr>\n",
       "  </thead>\n",
       "  <tbody>\n",
       "    <tr>\n",
       "      <th>0</th>\n",
       "      <td>M1B</td>\n",
       "      <td>Scarborough</td>\n",
       "      <td>Rouge, Malvern</td>\n",
       "      <td>43.806686</td>\n",
       "      <td>-79.194353</td>\n",
       "    </tr>\n",
       "    <tr>\n",
       "      <th>1</th>\n",
       "      <td>M1C</td>\n",
       "      <td>Scarborough</td>\n",
       "      <td>Highland Creek, Rouge Hill, Port Union</td>\n",
       "      <td>43.784535</td>\n",
       "      <td>-79.160497</td>\n",
       "    </tr>\n",
       "    <tr>\n",
       "      <th>2</th>\n",
       "      <td>M1E</td>\n",
       "      <td>Scarborough</td>\n",
       "      <td>Guildwood, Morningside, West Hill</td>\n",
       "      <td>43.763573</td>\n",
       "      <td>-79.188711</td>\n",
       "    </tr>\n",
       "    <tr>\n",
       "      <th>3</th>\n",
       "      <td>M1G</td>\n",
       "      <td>Scarborough</td>\n",
       "      <td>Woburn</td>\n",
       "      <td>43.770992</td>\n",
       "      <td>-79.216917</td>\n",
       "    </tr>\n",
       "    <tr>\n",
       "      <th>4</th>\n",
       "      <td>M1H</td>\n",
       "      <td>Scarborough</td>\n",
       "      <td>Cedarbrae</td>\n",
       "      <td>43.773136</td>\n",
       "      <td>-79.239476</td>\n",
       "    </tr>\n",
       "    <tr>\n",
       "      <th>5</th>\n",
       "      <td>M1J</td>\n",
       "      <td>Scarborough</td>\n",
       "      <td>Scarborough Village</td>\n",
       "      <td>43.744734</td>\n",
       "      <td>-79.239476</td>\n",
       "    </tr>\n",
       "    <tr>\n",
       "      <th>6</th>\n",
       "      <td>M1K</td>\n",
       "      <td>Scarborough</td>\n",
       "      <td>East Birchmount Park, Ionview, Kennedy Park</td>\n",
       "      <td>43.727929</td>\n",
       "      <td>-79.262029</td>\n",
       "    </tr>\n",
       "    <tr>\n",
       "      <th>7</th>\n",
       "      <td>M1L</td>\n",
       "      <td>Scarborough</td>\n",
       "      <td>Clairlea, Golden Mile, Oakridge</td>\n",
       "      <td>43.711112</td>\n",
       "      <td>-79.284577</td>\n",
       "    </tr>\n",
       "    <tr>\n",
       "      <th>8</th>\n",
       "      <td>M1M</td>\n",
       "      <td>Scarborough</td>\n",
       "      <td>Cliffcrest, Cliffside, Scarborough Village West</td>\n",
       "      <td>43.716316</td>\n",
       "      <td>-79.239476</td>\n",
       "    </tr>\n",
       "    <tr>\n",
       "      <th>9</th>\n",
       "      <td>M1N</td>\n",
       "      <td>Scarborough</td>\n",
       "      <td>Birch Cliff, Cliffside West</td>\n",
       "      <td>43.692657</td>\n",
       "      <td>-79.264848</td>\n",
       "    </tr>\n",
       "  </tbody>\n",
       "</table>\n",
       "</div>"
      ],
      "text/plain": [
       "  Postcode      Borough                                    Neighbourhood  \\\n",
       "0      M1B  Scarborough                                   Rouge, Malvern   \n",
       "1      M1C  Scarborough           Highland Creek, Rouge Hill, Port Union   \n",
       "2      M1E  Scarborough                Guildwood, Morningside, West Hill   \n",
       "3      M1G  Scarborough                                           Woburn   \n",
       "4      M1H  Scarborough                                        Cedarbrae   \n",
       "5      M1J  Scarborough                              Scarborough Village   \n",
       "6      M1K  Scarborough      East Birchmount Park, Ionview, Kennedy Park   \n",
       "7      M1L  Scarborough                  Clairlea, Golden Mile, Oakridge   \n",
       "8      M1M  Scarborough  Cliffcrest, Cliffside, Scarborough Village West   \n",
       "9      M1N  Scarborough                      Birch Cliff, Cliffside West   \n",
       "\n",
       "    Latitude  Longitude  \n",
       "0  43.806686 -79.194353  \n",
       "1  43.784535 -79.160497  \n",
       "2  43.763573 -79.188711  \n",
       "3  43.770992 -79.216917  \n",
       "4  43.773136 -79.239476  \n",
       "5  43.744734 -79.239476  \n",
       "6  43.727929 -79.262029  \n",
       "7  43.711112 -79.284577  \n",
       "8  43.716316 -79.239476  \n",
       "9  43.692657 -79.264848  "
      ]
     },
     "execution_count": 20,
     "metadata": {},
     "output_type": "execute_result"
    }
   ],
   "source": [
    "neigh_loc_df = pd.merge(new_df, loc_df, on='Postcode')\n",
    "neigh_loc_df.head(10)"
   ]
  },
  {
   "cell_type": "markdown",
   "metadata": {},
   "source": [
    "Check the dataset again to make sure the merging is done correctly as expected."
   ]
  },
  {
   "cell_type": "code",
   "execution_count": 21,
   "metadata": {},
   "outputs": [
    {
     "data": {
      "text/plain": [
       "(103, 5)"
      ]
     },
     "execution_count": 21,
     "metadata": {},
     "output_type": "execute_result"
    }
   ],
   "source": [
    "neigh_loc_df.shape"
   ]
  },
  {
   "cell_type": "markdown",
   "metadata": {},
   "source": [
    "### So, it seems everything went well."
   ]
  },
  {
   "cell_type": "markdown",
   "metadata": {},
   "source": [
    "<hr>  \n",
    "\n",
    "<a id=\"ref2\"></a>\n",
    "# Data Exploration  "
   ]
  },
  {
   "cell_type": "markdown",
   "metadata": {},
   "source": [
    "Look at how many Boroughs in the dataset"
   ]
  },
  {
   "cell_type": "code",
   "execution_count": 22,
   "metadata": {},
   "outputs": [
    {
     "name": "stdout",
     "output_type": "stream",
     "text": [
      "The dataframe has 11 boroughs and 103 neighborhoods.\n"
     ]
    }
   ],
   "source": [
    "print('The dataframe has {} boroughs and {} neighborhoods.'.format(\n",
    "        len(neigh_loc_df['Borough'].unique()),\n",
    "        neigh_loc_df.shape[0]\n",
    "    )\n",
    ")"
   ]
  },
  {
   "cell_type": "markdown",
   "metadata": {},
   "source": [
    "Check look at Borough column and filter those which has the word Toronto in Borough names. "
   ]
  },
  {
   "cell_type": "code",
   "execution_count": 23,
   "metadata": {},
   "outputs": [
    {
     "name": "stdout",
     "output_type": "stream",
     "text": [
      "['Scarborough' 'North York' 'East York' 'East Toronto' 'Central Toronto'\n",
      " 'Downtown Toronto' 'York' 'West Toronto' 'Mississauga' 'Etobicoke'\n",
      " \"Queen's Park\"]\n"
     ]
    }
   ],
   "source": [
    "unique_boroughs = neigh_loc_df['Borough'].unique()\n",
    "# unique Boroughs are\n",
    "print(unique_boroughs)"
   ]
  },
  {
   "cell_type": "code",
   "execution_count": 24,
   "metadata": {},
   "outputs": [
    {
     "name": "stdout",
     "output_type": "stream",
     "text": [
      "Boroughs with the word Toronto are : ['East Toronto', 'Central Toronto', 'Downtown Toronto', 'West Toronto']\n"
     ]
    }
   ],
   "source": [
    "b_Toronto = []\n",
    "for b in unique_boroughs:\n",
    "    if len(b.split(' '))>1:\n",
    "        if 'Toronto' in b.split(' '):\n",
    "            b_Toronto.append(b)\n",
    "        else:\n",
    "            pass\n",
    "    else:\n",
    "        pass\n",
    "print(f'Boroughs with the word Toronto are : {b_Toronto}')"
   ]
  },
  {
   "cell_type": "code",
   "execution_count": 25,
   "metadata": {},
   "outputs": [],
   "source": [
    "filter_Toronto = neigh_loc_df['Borough'].isin(b_Toronto)"
   ]
  },
  {
   "cell_type": "code",
   "execution_count": 26,
   "metadata": {},
   "outputs": [
    {
     "data": {
      "text/html": [
       "<div>\n",
       "<style scoped>\n",
       "    .dataframe tbody tr th:only-of-type {\n",
       "        vertical-align: middle;\n",
       "    }\n",
       "\n",
       "    .dataframe tbody tr th {\n",
       "        vertical-align: top;\n",
       "    }\n",
       "\n",
       "    .dataframe thead th {\n",
       "        text-align: right;\n",
       "    }\n",
       "</style>\n",
       "<table border=\"1\" class=\"dataframe\">\n",
       "  <thead>\n",
       "    <tr style=\"text-align: right;\">\n",
       "      <th></th>\n",
       "      <th>Postcode</th>\n",
       "      <th>Borough</th>\n",
       "      <th>Neighbourhood</th>\n",
       "      <th>Latitude</th>\n",
       "      <th>Longitude</th>\n",
       "    </tr>\n",
       "  </thead>\n",
       "  <tbody>\n",
       "    <tr>\n",
       "      <th>0</th>\n",
       "      <td>M4E</td>\n",
       "      <td>East Toronto</td>\n",
       "      <td>The Beaches</td>\n",
       "      <td>43.676357</td>\n",
       "      <td>-79.293031</td>\n",
       "    </tr>\n",
       "    <tr>\n",
       "      <th>1</th>\n",
       "      <td>M4K</td>\n",
       "      <td>East Toronto</td>\n",
       "      <td>The Danforth West, Riverdale</td>\n",
       "      <td>43.679557</td>\n",
       "      <td>-79.352188</td>\n",
       "    </tr>\n",
       "    <tr>\n",
       "      <th>2</th>\n",
       "      <td>M4L</td>\n",
       "      <td>East Toronto</td>\n",
       "      <td>The Beaches West, India Bazaar</td>\n",
       "      <td>43.668999</td>\n",
       "      <td>-79.315572</td>\n",
       "    </tr>\n",
       "    <tr>\n",
       "      <th>3</th>\n",
       "      <td>M4M</td>\n",
       "      <td>East Toronto</td>\n",
       "      <td>Studio District</td>\n",
       "      <td>43.659526</td>\n",
       "      <td>-79.340923</td>\n",
       "    </tr>\n",
       "    <tr>\n",
       "      <th>4</th>\n",
       "      <td>M4N</td>\n",
       "      <td>Central Toronto</td>\n",
       "      <td>Lawrence Park</td>\n",
       "      <td>43.728020</td>\n",
       "      <td>-79.388790</td>\n",
       "    </tr>\n",
       "  </tbody>\n",
       "</table>\n",
       "</div>"
      ],
      "text/plain": [
       "  Postcode          Borough                   Neighbourhood   Latitude  \\\n",
       "0      M4E     East Toronto                     The Beaches  43.676357   \n",
       "1      M4K     East Toronto    The Danforth West, Riverdale  43.679557   \n",
       "2      M4L     East Toronto  The Beaches West, India Bazaar  43.668999   \n",
       "3      M4M     East Toronto                 Studio District  43.659526   \n",
       "4      M4N  Central Toronto                   Lawrence Park  43.728020   \n",
       "\n",
       "   Longitude  \n",
       "0 -79.293031  \n",
       "1 -79.352188  \n",
       "2 -79.315572  \n",
       "3 -79.340923  \n",
       "4 -79.388790  "
      ]
     },
     "execution_count": 26,
     "metadata": {},
     "output_type": "execute_result"
    }
   ],
   "source": [
    "Toronto_df = neigh_loc_df[filter_Toronto].reset_index(drop=True)\n",
    "Toronto_df.head()"
   ]
  },
  {
   "cell_type": "code",
   "execution_count": 27,
   "metadata": {},
   "outputs": [
    {
     "data": {
      "text/plain": [
       "(39, 5)"
      ]
     },
     "execution_count": 27,
     "metadata": {},
     "output_type": "execute_result"
    }
   ],
   "source": [
    "Toronto_df.shape"
   ]
  },
  {
   "cell_type": "code",
   "execution_count": 28,
   "metadata": {},
   "outputs": [],
   "source": [
    "# Geolocation of Toronto\n",
    "Toronto_lat, Toronto_long = 43.651070, -79.347015"
   ]
  },
  {
   "cell_type": "markdown",
   "metadata": {},
   "source": [
    "Plot the map of Toronto with those marked Boroughs which have the name with the word Toronto"
   ]
  },
  {
   "cell_type": "code",
   "execution_count": 29,
   "metadata": {},
   "outputs": [
    {
     "data": {
      "text/html": [
       "<div style=\"width:100%;\"><div style=\"position:relative;width:100%;height:0;padding-bottom:60%;\"><iframe src=\"data:text/html;charset=utf-8;base64,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\" style=\"position:absolute;width:100%;height:100%;left:0;top:0;border:none !important;\" allowfullscreen webkitallowfullscreen mozallowfullscreen></iframe></div></div>"
      ],
      "text/plain": [
       "<folium.folium.Map at 0x17e576a6f60>"
      ]
     },
     "execution_count": 29,
     "metadata": {},
     "output_type": "execute_result"
    }
   ],
   "source": [
    "# create map of toronto using latitude and longitude values\n",
    "map_Toronto = folium.Map(location=[Toronto_lat, Toronto_long], zoom_start=12)\n",
    "\n",
    "# add markers to map\n",
    "for lat, lng, borough, neighborhood in zip(Toronto_df['Latitude'], Toronto_df['Longitude'], Toronto_df['Borough'], Toronto_df['Neighbourhood']):\n",
    "    label = '{}, {}'.format(neighborhood, borough)\n",
    "    label = folium.Popup(label, parse_html=True)\n",
    "    folium.CircleMarker(\n",
    "        [lat, lng],\n",
    "        radius=5,\n",
    "        popup=label,\n",
    "        color='blue',\n",
    "        fill=True,\n",
    "        fill_color='#3186cc',\n",
    "        fill_opacity=0.7,\n",
    "        parse_html=False).add_to(map_Toronto)  \n",
    "    \n",
    "map_Toronto"
   ]
  },
  {
   "cell_type": "markdown",
   "metadata": {},
   "source": [
    "<hr>"
   ]
  },
  {
   "cell_type": "markdown",
   "metadata": {},
   "source": [
    "<a id=\"ref3\"></a>\n",
    "# Clustering  "
   ]
  },
  {
   "cell_type": "code",
   "execution_count": 30,
   "metadata": {},
   "outputs": [
    {
     "data": {
      "text/plain": [
       "39"
      ]
     },
     "execution_count": 30,
     "metadata": {},
     "output_type": "execute_result"
    }
   ],
   "source": [
    "# set number of clusters, since there are four Boroughs with the names including the word Toronto\n",
    "kclusters = 4\n",
    "# K-means clustering does not work well with categorical features, so drop them\n",
    "Toronto_clustering = Toronto_df.drop(['Postcode', 'Borough', 'Neighbourhood'], axis=1)\n",
    "# run k-means clustering\n",
    "kmeans = KMeans(n_clusters=kclusters, random_state=0).fit(Toronto_clustering)\n",
    "\n",
    "# check cluster labels generated for each row in the dataframe\n",
    "len(kmeans.labels_)#[0:10] "
   ]
  },
  {
   "cell_type": "markdown",
   "metadata": {},
   "source": [
    "Add claster labels"
   ]
  },
  {
   "cell_type": "code",
   "execution_count": 31,
   "metadata": {},
   "outputs": [
    {
     "data": {
      "text/html": [
       "<div>\n",
       "<style scoped>\n",
       "    .dataframe tbody tr th:only-of-type {\n",
       "        vertical-align: middle;\n",
       "    }\n",
       "\n",
       "    .dataframe tbody tr th {\n",
       "        vertical-align: top;\n",
       "    }\n",
       "\n",
       "    .dataframe thead th {\n",
       "        text-align: right;\n",
       "    }\n",
       "</style>\n",
       "<table border=\"1\" class=\"dataframe\">\n",
       "  <thead>\n",
       "    <tr style=\"text-align: right;\">\n",
       "      <th></th>\n",
       "      <th>Cluster Labels</th>\n",
       "      <th>Latitude</th>\n",
       "      <th>Longitude</th>\n",
       "    </tr>\n",
       "  </thead>\n",
       "  <tbody>\n",
       "    <tr>\n",
       "      <th>0</th>\n",
       "      <td>1</td>\n",
       "      <td>43.676357</td>\n",
       "      <td>-79.293031</td>\n",
       "    </tr>\n",
       "    <tr>\n",
       "      <th>1</th>\n",
       "      <td>1</td>\n",
       "      <td>43.679557</td>\n",
       "      <td>-79.352188</td>\n",
       "    </tr>\n",
       "    <tr>\n",
       "      <th>2</th>\n",
       "      <td>1</td>\n",
       "      <td>43.668999</td>\n",
       "      <td>-79.315572</td>\n",
       "    </tr>\n",
       "    <tr>\n",
       "      <th>3</th>\n",
       "      <td>1</td>\n",
       "      <td>43.659526</td>\n",
       "      <td>-79.340923</td>\n",
       "    </tr>\n",
       "    <tr>\n",
       "      <th>4</th>\n",
       "      <td>2</td>\n",
       "      <td>43.728020</td>\n",
       "      <td>-79.388790</td>\n",
       "    </tr>\n",
       "  </tbody>\n",
       "</table>\n",
       "</div>"
      ],
      "text/plain": [
       "   Cluster Labels   Latitude  Longitude\n",
       "0               1  43.676357 -79.293031\n",
       "1               1  43.679557 -79.352188\n",
       "2               1  43.668999 -79.315572\n",
       "3               1  43.659526 -79.340923\n",
       "4               2  43.728020 -79.388790"
      ]
     },
     "execution_count": 31,
     "metadata": {},
     "output_type": "execute_result"
    }
   ],
   "source": [
    "Toronto_clustering.insert(0, 'Cluster Labels', kmeans.labels_)\n",
    "Toronto_clustering.head()"
   ]
  },
  {
   "cell_type": "code",
   "execution_count": 32,
   "metadata": {},
   "outputs": [
    {
     "data": {
      "text/html": [
       "<div>\n",
       "<style scoped>\n",
       "    .dataframe tbody tr th:only-of-type {\n",
       "        vertical-align: middle;\n",
       "    }\n",
       "\n",
       "    .dataframe tbody tr th {\n",
       "        vertical-align: top;\n",
       "    }\n",
       "\n",
       "    .dataframe thead th {\n",
       "        text-align: right;\n",
       "    }\n",
       "</style>\n",
       "<table border=\"1\" class=\"dataframe\">\n",
       "  <thead>\n",
       "    <tr style=\"text-align: right;\">\n",
       "      <th></th>\n",
       "      <th>Postcode</th>\n",
       "      <th>Borough</th>\n",
       "      <th>Neighbourhood</th>\n",
       "      <th>Latitude</th>\n",
       "      <th>Longitude</th>\n",
       "      <th>Cluster Labels</th>\n",
       "    </tr>\n",
       "  </thead>\n",
       "  <tbody>\n",
       "    <tr>\n",
       "      <th>0</th>\n",
       "      <td>M4E</td>\n",
       "      <td>East Toronto</td>\n",
       "      <td>The Beaches</td>\n",
       "      <td>43.676357</td>\n",
       "      <td>-79.293031</td>\n",
       "      <td>1</td>\n",
       "    </tr>\n",
       "    <tr>\n",
       "      <th>1</th>\n",
       "      <td>M4K</td>\n",
       "      <td>East Toronto</td>\n",
       "      <td>The Danforth West, Riverdale</td>\n",
       "      <td>43.679557</td>\n",
       "      <td>-79.352188</td>\n",
       "      <td>1</td>\n",
       "    </tr>\n",
       "    <tr>\n",
       "      <th>2</th>\n",
       "      <td>M4L</td>\n",
       "      <td>East Toronto</td>\n",
       "      <td>The Beaches West, India Bazaar</td>\n",
       "      <td>43.668999</td>\n",
       "      <td>-79.315572</td>\n",
       "      <td>1</td>\n",
       "    </tr>\n",
       "    <tr>\n",
       "      <th>3</th>\n",
       "      <td>M4M</td>\n",
       "      <td>East Toronto</td>\n",
       "      <td>Studio District</td>\n",
       "      <td>43.659526</td>\n",
       "      <td>-79.340923</td>\n",
       "      <td>1</td>\n",
       "    </tr>\n",
       "    <tr>\n",
       "      <th>4</th>\n",
       "      <td>M4N</td>\n",
       "      <td>Central Toronto</td>\n",
       "      <td>Lawrence Park</td>\n",
       "      <td>43.728020</td>\n",
       "      <td>-79.388790</td>\n",
       "      <td>2</td>\n",
       "    </tr>\n",
       "    <tr>\n",
       "      <th>5</th>\n",
       "      <td>M4P</td>\n",
       "      <td>Central Toronto</td>\n",
       "      <td>Davisville North</td>\n",
       "      <td>43.712751</td>\n",
       "      <td>-79.390197</td>\n",
       "      <td>2</td>\n",
       "    </tr>\n",
       "    <tr>\n",
       "      <th>6</th>\n",
       "      <td>M4R</td>\n",
       "      <td>Central Toronto</td>\n",
       "      <td>North Toronto West</td>\n",
       "      <td>43.715383</td>\n",
       "      <td>-79.405678</td>\n",
       "      <td>2</td>\n",
       "    </tr>\n",
       "    <tr>\n",
       "      <th>7</th>\n",
       "      <td>M4S</td>\n",
       "      <td>Central Toronto</td>\n",
       "      <td>Davisville</td>\n",
       "      <td>43.704324</td>\n",
       "      <td>-79.388790</td>\n",
       "      <td>2</td>\n",
       "    </tr>\n",
       "    <tr>\n",
       "      <th>8</th>\n",
       "      <td>M4T</td>\n",
       "      <td>Central Toronto</td>\n",
       "      <td>Moore Park, Summerhill East</td>\n",
       "      <td>43.689574</td>\n",
       "      <td>-79.383160</td>\n",
       "      <td>2</td>\n",
       "    </tr>\n",
       "    <tr>\n",
       "      <th>9</th>\n",
       "      <td>M4V</td>\n",
       "      <td>Central Toronto</td>\n",
       "      <td>Deer Park, Forest Hill SE, Rathnelly, South Hi...</td>\n",
       "      <td>43.686412</td>\n",
       "      <td>-79.400049</td>\n",
       "      <td>2</td>\n",
       "    </tr>\n",
       "  </tbody>\n",
       "</table>\n",
       "</div>"
      ],
      "text/plain": [
       "  Postcode          Borough  \\\n",
       "0      M4E     East Toronto   \n",
       "1      M4K     East Toronto   \n",
       "2      M4L     East Toronto   \n",
       "3      M4M     East Toronto   \n",
       "4      M4N  Central Toronto   \n",
       "5      M4P  Central Toronto   \n",
       "6      M4R  Central Toronto   \n",
       "7      M4S  Central Toronto   \n",
       "8      M4T  Central Toronto   \n",
       "9      M4V  Central Toronto   \n",
       "\n",
       "                                       Neighbourhood   Latitude  Longitude  \\\n",
       "0                                        The Beaches  43.676357 -79.293031   \n",
       "1                       The Danforth West, Riverdale  43.679557 -79.352188   \n",
       "2                     The Beaches West, India Bazaar  43.668999 -79.315572   \n",
       "3                                    Studio District  43.659526 -79.340923   \n",
       "4                                      Lawrence Park  43.728020 -79.388790   \n",
       "5                                   Davisville North  43.712751 -79.390197   \n",
       "6                                 North Toronto West  43.715383 -79.405678   \n",
       "7                                         Davisville  43.704324 -79.388790   \n",
       "8                        Moore Park, Summerhill East  43.689574 -79.383160   \n",
       "9  Deer Park, Forest Hill SE, Rathnelly, South Hi...  43.686412 -79.400049   \n",
       "\n",
       "   Cluster Labels  \n",
       "0               1  \n",
       "1               1  \n",
       "2               1  \n",
       "3               1  \n",
       "4               2  \n",
       "5               2  \n",
       "6               2  \n",
       "7               2  \n",
       "8               2  \n",
       "9               2  "
      ]
     },
     "execution_count": 32,
     "metadata": {},
     "output_type": "execute_result"
    }
   ],
   "source": [
    "# Merge Toronto_claustering and Toronto_df  \n",
    "Toronto_clustered = pd.merge(Toronto_df, Toronto_clustering, left_on=[\"Latitude\", \"Longitude\"], right_on=[\"Latitude\", \"Longitude\"])\n",
    "Toronto_clustered.head(10)"
   ]
  },
  {
   "cell_type": "code",
   "execution_count": 33,
   "metadata": {},
   "outputs": [
    {
     "data": {
      "text/plain": [
       "(39, 6)"
      ]
     },
     "execution_count": 33,
     "metadata": {},
     "output_type": "execute_result"
    }
   ],
   "source": [
    "Toronto_clustered.shape"
   ]
  },
  {
   "cell_type": "code",
   "execution_count": null,
   "metadata": {},
   "outputs": [],
   "source": []
  },
  {
   "cell_type": "markdown",
   "metadata": {},
   "source": [
    "### Look at each cluster and classified Boroughs to them by the model"
   ]
  },
  {
   "cell_type": "code",
   "execution_count": 34,
   "metadata": {},
   "outputs": [
    {
     "data": {
      "text/html": [
       "<div>\n",
       "<style scoped>\n",
       "    .dataframe tbody tr th:only-of-type {\n",
       "        vertical-align: middle;\n",
       "    }\n",
       "\n",
       "    .dataframe tbody tr th {\n",
       "        vertical-align: top;\n",
       "    }\n",
       "\n",
       "    .dataframe thead th {\n",
       "        text-align: right;\n",
       "    }\n",
       "</style>\n",
       "<table border=\"1\" class=\"dataframe\">\n",
       "  <thead>\n",
       "    <tr style=\"text-align: right;\">\n",
       "      <th></th>\n",
       "      <th>Postcode</th>\n",
       "      <th>Borough</th>\n",
       "      <th>Neighbourhood</th>\n",
       "      <th>Latitude</th>\n",
       "      <th>Longitude</th>\n",
       "      <th>Cluster Labels</th>\n",
       "    </tr>\n",
       "  </thead>\n",
       "  <tbody>\n",
       "    <tr>\n",
       "      <th>30</th>\n",
       "      <td>M6G</td>\n",
       "      <td>Downtown Toronto</td>\n",
       "      <td>Christie</td>\n",
       "      <td>43.669542</td>\n",
       "      <td>-79.422564</td>\n",
       "      <td>0</td>\n",
       "    </tr>\n",
       "    <tr>\n",
       "      <th>31</th>\n",
       "      <td>M6H</td>\n",
       "      <td>West Toronto</td>\n",
       "      <td>Dovercourt Village, Dufferin</td>\n",
       "      <td>43.669005</td>\n",
       "      <td>-79.442259</td>\n",
       "      <td>0</td>\n",
       "    </tr>\n",
       "    <tr>\n",
       "      <th>32</th>\n",
       "      <td>M6J</td>\n",
       "      <td>West Toronto</td>\n",
       "      <td>Little Portugal, Trinity</td>\n",
       "      <td>43.647927</td>\n",
       "      <td>-79.419750</td>\n",
       "      <td>0</td>\n",
       "    </tr>\n",
       "    <tr>\n",
       "      <th>33</th>\n",
       "      <td>M6K</td>\n",
       "      <td>West Toronto</td>\n",
       "      <td>Brockton, Exhibition Place, Parkdale Village</td>\n",
       "      <td>43.636847</td>\n",
       "      <td>-79.428191</td>\n",
       "      <td>0</td>\n",
       "    </tr>\n",
       "    <tr>\n",
       "      <th>34</th>\n",
       "      <td>M6P</td>\n",
       "      <td>West Toronto</td>\n",
       "      <td>High Park, The Junction South</td>\n",
       "      <td>43.661608</td>\n",
       "      <td>-79.464763</td>\n",
       "      <td>0</td>\n",
       "    </tr>\n",
       "    <tr>\n",
       "      <th>35</th>\n",
       "      <td>M6R</td>\n",
       "      <td>West Toronto</td>\n",
       "      <td>Parkdale, Roncesvalles</td>\n",
       "      <td>43.648960</td>\n",
       "      <td>-79.456325</td>\n",
       "      <td>0</td>\n",
       "    </tr>\n",
       "    <tr>\n",
       "      <th>36</th>\n",
       "      <td>M6S</td>\n",
       "      <td>West Toronto</td>\n",
       "      <td>Runnymede, Swansea</td>\n",
       "      <td>43.651571</td>\n",
       "      <td>-79.484450</td>\n",
       "      <td>0</td>\n",
       "    </tr>\n",
       "  </tbody>\n",
       "</table>\n",
       "</div>"
      ],
      "text/plain": [
       "   Postcode           Borough                                 Neighbourhood  \\\n",
       "30      M6G  Downtown Toronto                                      Christie   \n",
       "31      M6H      West Toronto                  Dovercourt Village, Dufferin   \n",
       "32      M6J      West Toronto                      Little Portugal, Trinity   \n",
       "33      M6K      West Toronto  Brockton, Exhibition Place, Parkdale Village   \n",
       "34      M6P      West Toronto                 High Park, The Junction South   \n",
       "35      M6R      West Toronto                        Parkdale, Roncesvalles   \n",
       "36      M6S      West Toronto                            Runnymede, Swansea   \n",
       "\n",
       "     Latitude  Longitude  Cluster Labels  \n",
       "30  43.669542 -79.422564               0  \n",
       "31  43.669005 -79.442259               0  \n",
       "32  43.647927 -79.419750               0  \n",
       "33  43.636847 -79.428191               0  \n",
       "34  43.661608 -79.464763               0  \n",
       "35  43.648960 -79.456325               0  \n",
       "36  43.651571 -79.484450               0  "
      ]
     },
     "execution_count": 34,
     "metadata": {},
     "output_type": "execute_result"
    }
   ],
   "source": [
    "# cluster label: 0\n",
    "Toronto_clustered[Toronto_clustered['Cluster Labels']==0]"
   ]
  },
  {
   "cell_type": "code",
   "execution_count": 35,
   "metadata": {},
   "outputs": [
    {
     "data": {
      "text/html": [
       "<div>\n",
       "<style scoped>\n",
       "    .dataframe tbody tr th:only-of-type {\n",
       "        vertical-align: middle;\n",
       "    }\n",
       "\n",
       "    .dataframe tbody tr th {\n",
       "        vertical-align: top;\n",
       "    }\n",
       "\n",
       "    .dataframe thead th {\n",
       "        text-align: right;\n",
       "    }\n",
       "</style>\n",
       "<table border=\"1\" class=\"dataframe\">\n",
       "  <thead>\n",
       "    <tr style=\"text-align: right;\">\n",
       "      <th></th>\n",
       "      <th>Postcode</th>\n",
       "      <th>Borough</th>\n",
       "      <th>Neighbourhood</th>\n",
       "      <th>Latitude</th>\n",
       "      <th>Longitude</th>\n",
       "      <th>Cluster Labels</th>\n",
       "    </tr>\n",
       "  </thead>\n",
       "  <tbody>\n",
       "    <tr>\n",
       "      <th>0</th>\n",
       "      <td>M4E</td>\n",
       "      <td>East Toronto</td>\n",
       "      <td>The Beaches</td>\n",
       "      <td>43.676357</td>\n",
       "      <td>-79.293031</td>\n",
       "      <td>1</td>\n",
       "    </tr>\n",
       "    <tr>\n",
       "      <th>1</th>\n",
       "      <td>M4K</td>\n",
       "      <td>East Toronto</td>\n",
       "      <td>The Danforth West, Riverdale</td>\n",
       "      <td>43.679557</td>\n",
       "      <td>-79.352188</td>\n",
       "      <td>1</td>\n",
       "    </tr>\n",
       "    <tr>\n",
       "      <th>2</th>\n",
       "      <td>M4L</td>\n",
       "      <td>East Toronto</td>\n",
       "      <td>The Beaches West, India Bazaar</td>\n",
       "      <td>43.668999</td>\n",
       "      <td>-79.315572</td>\n",
       "      <td>1</td>\n",
       "    </tr>\n",
       "    <tr>\n",
       "      <th>3</th>\n",
       "      <td>M4M</td>\n",
       "      <td>East Toronto</td>\n",
       "      <td>Studio District</td>\n",
       "      <td>43.659526</td>\n",
       "      <td>-79.340923</td>\n",
       "      <td>1</td>\n",
       "    </tr>\n",
       "    <tr>\n",
       "      <th>38</th>\n",
       "      <td>M7Y</td>\n",
       "      <td>East Toronto</td>\n",
       "      <td>Business Reply Mail Processing Centre 969 Eastern</td>\n",
       "      <td>43.662744</td>\n",
       "      <td>-79.321558</td>\n",
       "      <td>1</td>\n",
       "    </tr>\n",
       "  </tbody>\n",
       "</table>\n",
       "</div>"
      ],
      "text/plain": [
       "   Postcode       Borough                                      Neighbourhood  \\\n",
       "0       M4E  East Toronto                                        The Beaches   \n",
       "1       M4K  East Toronto                       The Danforth West, Riverdale   \n",
       "2       M4L  East Toronto                     The Beaches West, India Bazaar   \n",
       "3       M4M  East Toronto                                    Studio District   \n",
       "38      M7Y  East Toronto  Business Reply Mail Processing Centre 969 Eastern   \n",
       "\n",
       "     Latitude  Longitude  Cluster Labels  \n",
       "0   43.676357 -79.293031               1  \n",
       "1   43.679557 -79.352188               1  \n",
       "2   43.668999 -79.315572               1  \n",
       "3   43.659526 -79.340923               1  \n",
       "38  43.662744 -79.321558               1  "
      ]
     },
     "execution_count": 35,
     "metadata": {},
     "output_type": "execute_result"
    }
   ],
   "source": [
    "# cluster label: 1\n",
    "Toronto_clustered[Toronto_clustered['Cluster Labels']==1]"
   ]
  },
  {
   "cell_type": "code",
   "execution_count": 36,
   "metadata": {},
   "outputs": [
    {
     "data": {
      "text/html": [
       "<div>\n",
       "<style scoped>\n",
       "    .dataframe tbody tr th:only-of-type {\n",
       "        vertical-align: middle;\n",
       "    }\n",
       "\n",
       "    .dataframe tbody tr th {\n",
       "        vertical-align: top;\n",
       "    }\n",
       "\n",
       "    .dataframe thead th {\n",
       "        text-align: right;\n",
       "    }\n",
       "</style>\n",
       "<table border=\"1\" class=\"dataframe\">\n",
       "  <thead>\n",
       "    <tr style=\"text-align: right;\">\n",
       "      <th></th>\n",
       "      <th>Postcode</th>\n",
       "      <th>Borough</th>\n",
       "      <th>Neighbourhood</th>\n",
       "      <th>Latitude</th>\n",
       "      <th>Longitude</th>\n",
       "      <th>Cluster Labels</th>\n",
       "    </tr>\n",
       "  </thead>\n",
       "  <tbody>\n",
       "    <tr>\n",
       "      <th>4</th>\n",
       "      <td>M4N</td>\n",
       "      <td>Central Toronto</td>\n",
       "      <td>Lawrence Park</td>\n",
       "      <td>43.728020</td>\n",
       "      <td>-79.388790</td>\n",
       "      <td>2</td>\n",
       "    </tr>\n",
       "    <tr>\n",
       "      <th>5</th>\n",
       "      <td>M4P</td>\n",
       "      <td>Central Toronto</td>\n",
       "      <td>Davisville North</td>\n",
       "      <td>43.712751</td>\n",
       "      <td>-79.390197</td>\n",
       "      <td>2</td>\n",
       "    </tr>\n",
       "    <tr>\n",
       "      <th>6</th>\n",
       "      <td>M4R</td>\n",
       "      <td>Central Toronto</td>\n",
       "      <td>North Toronto West</td>\n",
       "      <td>43.715383</td>\n",
       "      <td>-79.405678</td>\n",
       "      <td>2</td>\n",
       "    </tr>\n",
       "    <tr>\n",
       "      <th>7</th>\n",
       "      <td>M4S</td>\n",
       "      <td>Central Toronto</td>\n",
       "      <td>Davisville</td>\n",
       "      <td>43.704324</td>\n",
       "      <td>-79.388790</td>\n",
       "      <td>2</td>\n",
       "    </tr>\n",
       "    <tr>\n",
       "      <th>8</th>\n",
       "      <td>M4T</td>\n",
       "      <td>Central Toronto</td>\n",
       "      <td>Moore Park, Summerhill East</td>\n",
       "      <td>43.689574</td>\n",
       "      <td>-79.383160</td>\n",
       "      <td>2</td>\n",
       "    </tr>\n",
       "    <tr>\n",
       "      <th>9</th>\n",
       "      <td>M4V</td>\n",
       "      <td>Central Toronto</td>\n",
       "      <td>Deer Park, Forest Hill SE, Rathnelly, South Hi...</td>\n",
       "      <td>43.686412</td>\n",
       "      <td>-79.400049</td>\n",
       "      <td>2</td>\n",
       "    </tr>\n",
       "    <tr>\n",
       "      <th>22</th>\n",
       "      <td>M5N</td>\n",
       "      <td>Central Toronto</td>\n",
       "      <td>Roselawn</td>\n",
       "      <td>43.711695</td>\n",
       "      <td>-79.416936</td>\n",
       "      <td>2</td>\n",
       "    </tr>\n",
       "    <tr>\n",
       "      <th>23</th>\n",
       "      <td>M5P</td>\n",
       "      <td>Central Toronto</td>\n",
       "      <td>Forest Hill North, Forest Hill West</td>\n",
       "      <td>43.696948</td>\n",
       "      <td>-79.411307</td>\n",
       "      <td>2</td>\n",
       "    </tr>\n",
       "  </tbody>\n",
       "</table>\n",
       "</div>"
      ],
      "text/plain": [
       "   Postcode          Borough  \\\n",
       "4       M4N  Central Toronto   \n",
       "5       M4P  Central Toronto   \n",
       "6       M4R  Central Toronto   \n",
       "7       M4S  Central Toronto   \n",
       "8       M4T  Central Toronto   \n",
       "9       M4V  Central Toronto   \n",
       "22      M5N  Central Toronto   \n",
       "23      M5P  Central Toronto   \n",
       "\n",
       "                                        Neighbourhood   Latitude  Longitude  \\\n",
       "4                                       Lawrence Park  43.728020 -79.388790   \n",
       "5                                    Davisville North  43.712751 -79.390197   \n",
       "6                                  North Toronto West  43.715383 -79.405678   \n",
       "7                                          Davisville  43.704324 -79.388790   \n",
       "8                         Moore Park, Summerhill East  43.689574 -79.383160   \n",
       "9   Deer Park, Forest Hill SE, Rathnelly, South Hi...  43.686412 -79.400049   \n",
       "22                                           Roselawn  43.711695 -79.416936   \n",
       "23                Forest Hill North, Forest Hill West  43.696948 -79.411307   \n",
       "\n",
       "    Cluster Labels  \n",
       "4                2  \n",
       "5                2  \n",
       "6                2  \n",
       "7                2  \n",
       "8                2  \n",
       "9                2  \n",
       "22               2  \n",
       "23               2  "
      ]
     },
     "execution_count": 36,
     "metadata": {},
     "output_type": "execute_result"
    }
   ],
   "source": [
    "# cluster label: 2\n",
    "Toronto_clustered[Toronto_clustered['Cluster Labels']==2]"
   ]
  },
  {
   "cell_type": "code",
   "execution_count": 37,
   "metadata": {},
   "outputs": [
    {
     "data": {
      "text/html": [
       "<div>\n",
       "<style scoped>\n",
       "    .dataframe tbody tr th:only-of-type {\n",
       "        vertical-align: middle;\n",
       "    }\n",
       "\n",
       "    .dataframe tbody tr th {\n",
       "        vertical-align: top;\n",
       "    }\n",
       "\n",
       "    .dataframe thead th {\n",
       "        text-align: right;\n",
       "    }\n",
       "</style>\n",
       "<table border=\"1\" class=\"dataframe\">\n",
       "  <thead>\n",
       "    <tr style=\"text-align: right;\">\n",
       "      <th></th>\n",
       "      <th>Postcode</th>\n",
       "      <th>Borough</th>\n",
       "      <th>Neighbourhood</th>\n",
       "      <th>Latitude</th>\n",
       "      <th>Longitude</th>\n",
       "      <th>Cluster Labels</th>\n",
       "    </tr>\n",
       "  </thead>\n",
       "  <tbody>\n",
       "    <tr>\n",
       "      <th>10</th>\n",
       "      <td>M4W</td>\n",
       "      <td>Downtown Toronto</td>\n",
       "      <td>Rosedale</td>\n",
       "      <td>43.679563</td>\n",
       "      <td>-79.377529</td>\n",
       "      <td>3</td>\n",
       "    </tr>\n",
       "    <tr>\n",
       "      <th>11</th>\n",
       "      <td>M4X</td>\n",
       "      <td>Downtown Toronto</td>\n",
       "      <td>Cabbagetown, St. James Town</td>\n",
       "      <td>43.667967</td>\n",
       "      <td>-79.367675</td>\n",
       "      <td>3</td>\n",
       "    </tr>\n",
       "    <tr>\n",
       "      <th>12</th>\n",
       "      <td>M4Y</td>\n",
       "      <td>Downtown Toronto</td>\n",
       "      <td>Church and Wellesley</td>\n",
       "      <td>43.665860</td>\n",
       "      <td>-79.383160</td>\n",
       "      <td>3</td>\n",
       "    </tr>\n",
       "    <tr>\n",
       "      <th>13</th>\n",
       "      <td>M5A</td>\n",
       "      <td>Downtown Toronto</td>\n",
       "      <td>Harbourfront</td>\n",
       "      <td>43.654260</td>\n",
       "      <td>-79.360636</td>\n",
       "      <td>3</td>\n",
       "    </tr>\n",
       "    <tr>\n",
       "      <th>14</th>\n",
       "      <td>M5B</td>\n",
       "      <td>Downtown Toronto</td>\n",
       "      <td>Ryerson, Garden District</td>\n",
       "      <td>43.657162</td>\n",
       "      <td>-79.378937</td>\n",
       "      <td>3</td>\n",
       "    </tr>\n",
       "    <tr>\n",
       "      <th>15</th>\n",
       "      <td>M5C</td>\n",
       "      <td>Downtown Toronto</td>\n",
       "      <td>St. James Town</td>\n",
       "      <td>43.651494</td>\n",
       "      <td>-79.375418</td>\n",
       "      <td>3</td>\n",
       "    </tr>\n",
       "    <tr>\n",
       "      <th>16</th>\n",
       "      <td>M5E</td>\n",
       "      <td>Downtown Toronto</td>\n",
       "      <td>Berczy Park</td>\n",
       "      <td>43.644771</td>\n",
       "      <td>-79.373306</td>\n",
       "      <td>3</td>\n",
       "    </tr>\n",
       "    <tr>\n",
       "      <th>17</th>\n",
       "      <td>M5G</td>\n",
       "      <td>Downtown Toronto</td>\n",
       "      <td>Central Bay Street</td>\n",
       "      <td>43.657952</td>\n",
       "      <td>-79.387383</td>\n",
       "      <td>3</td>\n",
       "    </tr>\n",
       "    <tr>\n",
       "      <th>18</th>\n",
       "      <td>M5H</td>\n",
       "      <td>Downtown Toronto</td>\n",
       "      <td>Adelaide, King, Richmond</td>\n",
       "      <td>43.650571</td>\n",
       "      <td>-79.384568</td>\n",
       "      <td>3</td>\n",
       "    </tr>\n",
       "    <tr>\n",
       "      <th>19</th>\n",
       "      <td>M5J</td>\n",
       "      <td>Downtown Toronto</td>\n",
       "      <td>Harbourfront East, Toronto Islands, Union Station</td>\n",
       "      <td>43.640816</td>\n",
       "      <td>-79.381752</td>\n",
       "      <td>3</td>\n",
       "    </tr>\n",
       "    <tr>\n",
       "      <th>20</th>\n",
       "      <td>M5K</td>\n",
       "      <td>Downtown Toronto</td>\n",
       "      <td>Design Exchange, Toronto Dominion Centre</td>\n",
       "      <td>43.647177</td>\n",
       "      <td>-79.381576</td>\n",
       "      <td>3</td>\n",
       "    </tr>\n",
       "    <tr>\n",
       "      <th>21</th>\n",
       "      <td>M5L</td>\n",
       "      <td>Downtown Toronto</td>\n",
       "      <td>Commerce Court, Victoria Hotel</td>\n",
       "      <td>43.648198</td>\n",
       "      <td>-79.379817</td>\n",
       "      <td>3</td>\n",
       "    </tr>\n",
       "    <tr>\n",
       "      <th>24</th>\n",
       "      <td>M5R</td>\n",
       "      <td>Central Toronto</td>\n",
       "      <td>The Annex, North Midtown, Yorkville</td>\n",
       "      <td>43.672710</td>\n",
       "      <td>-79.405678</td>\n",
       "      <td>3</td>\n",
       "    </tr>\n",
       "    <tr>\n",
       "      <th>25</th>\n",
       "      <td>M5S</td>\n",
       "      <td>Downtown Toronto</td>\n",
       "      <td>Harbord, University of Toronto</td>\n",
       "      <td>43.662696</td>\n",
       "      <td>-79.400049</td>\n",
       "      <td>3</td>\n",
       "    </tr>\n",
       "    <tr>\n",
       "      <th>26</th>\n",
       "      <td>M5T</td>\n",
       "      <td>Downtown Toronto</td>\n",
       "      <td>Chinatown, Grange Park, Kensington Market</td>\n",
       "      <td>43.653206</td>\n",
       "      <td>-79.400049</td>\n",
       "      <td>3</td>\n",
       "    </tr>\n",
       "    <tr>\n",
       "      <th>27</th>\n",
       "      <td>M5V</td>\n",
       "      <td>Downtown Toronto</td>\n",
       "      <td>CN Tower, Bathurst Quay, Island airport, Harbo...</td>\n",
       "      <td>43.628947</td>\n",
       "      <td>-79.394420</td>\n",
       "      <td>3</td>\n",
       "    </tr>\n",
       "    <tr>\n",
       "      <th>28</th>\n",
       "      <td>M5W</td>\n",
       "      <td>Downtown Toronto</td>\n",
       "      <td>Stn A PO Boxes 25 The Esplanade</td>\n",
       "      <td>43.646435</td>\n",
       "      <td>-79.374846</td>\n",
       "      <td>3</td>\n",
       "    </tr>\n",
       "    <tr>\n",
       "      <th>29</th>\n",
       "      <td>M5X</td>\n",
       "      <td>Downtown Toronto</td>\n",
       "      <td>First Canadian Place, Underground city</td>\n",
       "      <td>43.648429</td>\n",
       "      <td>-79.382280</td>\n",
       "      <td>3</td>\n",
       "    </tr>\n",
       "    <tr>\n",
       "      <th>37</th>\n",
       "      <td>M7A</td>\n",
       "      <td>Downtown Toronto</td>\n",
       "      <td>Queen's Park</td>\n",
       "      <td>43.662301</td>\n",
       "      <td>-79.389494</td>\n",
       "      <td>3</td>\n",
       "    </tr>\n",
       "  </tbody>\n",
       "</table>\n",
       "</div>"
      ],
      "text/plain": [
       "   Postcode           Borough  \\\n",
       "10      M4W  Downtown Toronto   \n",
       "11      M4X  Downtown Toronto   \n",
       "12      M4Y  Downtown Toronto   \n",
       "13      M5A  Downtown Toronto   \n",
       "14      M5B  Downtown Toronto   \n",
       "15      M5C  Downtown Toronto   \n",
       "16      M5E  Downtown Toronto   \n",
       "17      M5G  Downtown Toronto   \n",
       "18      M5H  Downtown Toronto   \n",
       "19      M5J  Downtown Toronto   \n",
       "20      M5K  Downtown Toronto   \n",
       "21      M5L  Downtown Toronto   \n",
       "24      M5R   Central Toronto   \n",
       "25      M5S  Downtown Toronto   \n",
       "26      M5T  Downtown Toronto   \n",
       "27      M5V  Downtown Toronto   \n",
       "28      M5W  Downtown Toronto   \n",
       "29      M5X  Downtown Toronto   \n",
       "37      M7A  Downtown Toronto   \n",
       "\n",
       "                                        Neighbourhood   Latitude  Longitude  \\\n",
       "10                                           Rosedale  43.679563 -79.377529   \n",
       "11                        Cabbagetown, St. James Town  43.667967 -79.367675   \n",
       "12                               Church and Wellesley  43.665860 -79.383160   \n",
       "13                                       Harbourfront  43.654260 -79.360636   \n",
       "14                           Ryerson, Garden District  43.657162 -79.378937   \n",
       "15                                     St. James Town  43.651494 -79.375418   \n",
       "16                                        Berczy Park  43.644771 -79.373306   \n",
       "17                                 Central Bay Street  43.657952 -79.387383   \n",
       "18                           Adelaide, King, Richmond  43.650571 -79.384568   \n",
       "19  Harbourfront East, Toronto Islands, Union Station  43.640816 -79.381752   \n",
       "20           Design Exchange, Toronto Dominion Centre  43.647177 -79.381576   \n",
       "21                     Commerce Court, Victoria Hotel  43.648198 -79.379817   \n",
       "24                The Annex, North Midtown, Yorkville  43.672710 -79.405678   \n",
       "25                     Harbord, University of Toronto  43.662696 -79.400049   \n",
       "26          Chinatown, Grange Park, Kensington Market  43.653206 -79.400049   \n",
       "27  CN Tower, Bathurst Quay, Island airport, Harbo...  43.628947 -79.394420   \n",
       "28                    Stn A PO Boxes 25 The Esplanade  43.646435 -79.374846   \n",
       "29             First Canadian Place, Underground city  43.648429 -79.382280   \n",
       "37                                       Queen's Park  43.662301 -79.389494   \n",
       "\n",
       "    Cluster Labels  \n",
       "10               3  \n",
       "11               3  \n",
       "12               3  \n",
       "13               3  \n",
       "14               3  \n",
       "15               3  \n",
       "16               3  \n",
       "17               3  \n",
       "18               3  \n",
       "19               3  \n",
       "20               3  \n",
       "21               3  \n",
       "24               3  \n",
       "25               3  \n",
       "26               3  \n",
       "27               3  \n",
       "28               3  \n",
       "29               3  \n",
       "37               3  "
      ]
     },
     "execution_count": 37,
     "metadata": {},
     "output_type": "execute_result"
    }
   ],
   "source": [
    "# cluster label: 3\n",
    "Toronto_clustered[Toronto_clustered['Cluster Labels']==3]"
   ]
  },
  {
   "cell_type": "markdown",
   "metadata": {},
   "source": [
    "### Plot the clastering result on the map of Toronto"
   ]
  },
  {
   "cell_type": "code",
   "execution_count": 38,
   "metadata": {},
   "outputs": [
    {
     "data": {
      "text/html": [
       "<div style=\"width:100%;\"><div style=\"position:relative;width:100%;height:0;padding-bottom:60%;\"><iframe src=\"data:text/html;charset=utf-8;base64,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\" style=\"position:absolute;width:100%;height:100%;left:0;top:0;border:none !important;\" allowfullscreen webkitallowfullscreen mozallowfullscreen></iframe></div></div>"
      ],
      "text/plain": [
       "<folium.folium.Map at 0x17e576a64e0>"
      ]
     },
     "execution_count": 38,
     "metadata": {},
     "output_type": "execute_result"
    }
   ],
   "source": [
    "# create map of Toronto using latitude and longitude values\n",
    "map_Toronto_cluster = folium.Map(location=[Toronto_lat, Toronto_long], zoom_start=12)\n",
    "\n",
    "# set color scheme for the clusters\n",
    "x = np.arange(kclusters)\n",
    "ys = [i + x + (i*x)**2 for i in range(kclusters)]\n",
    "colors_array = cm.gist_rainbow(np.linspace(0, 1, len(ys)))\n",
    "gist_rainbow = [colors.rgb2hex(i) for i in colors_array]\n",
    "\n",
    "# add markers to the map\n",
    "markers_colors = []\n",
    "for lat, lon, poi, cluster in zip(Toronto_clustered['Latitude'], Toronto_clustered['Longitude'], Toronto_clustered['Neighbourhood'], Toronto_clustered['Cluster Labels']):\n",
    "    label = folium.Popup(str(poi) + ' Cluster ' + str(cluster), parse_html=True)\n",
    "    folium.CircleMarker(\n",
    "        [lat, lon],\n",
    "        radius=5,\n",
    "        popup=label,\n",
    "        color=gist_rainbow[cluster-1],\n",
    "        fill=True,\n",
    "        fill_color=gist_rainbow[cluster-1],\n",
    "        fill_opacity=1.0).add_to(map_Toronto_cluster)\n",
    "    \n",
    "# \n",
    "legend_html =   '''\n",
    "                <div style=\"position: fixed; \n",
    "                            bottom: 100px; right: 50px; width: 300px; height: 150px; \n",
    "                            border:2px solid grey; z-index:9999; font-size:14px;\n",
    "                            \">&nbsp; Boroughs <br>\n",
    "                              <br>\n",
    "                              &nbsp; Cluster 0 : West Toronto (6/7)&nbsp; <i class=\"fa fa-circle fa-1x\" style=\"color:#ff00bf\"></i><br>\n",
    "                              &nbsp; Cluster 1 : East Toronto (5/5) &nbsp; <i class=\"fa fa-circle fa-1x\" style=\"color:#ff0029\"></i><br>\n",
    "                              &nbsp; Cluster 2 : Central Toronto (8/8) &nbsp; <i class=\"fa fa-circle fa-1x\" style=\"color:#5cff00\"></i><br>\n",
    "                              &nbsp; Cluster 3 : Downtown Toronto (18/19) &nbsp; <i class=\"fa fa-circle fa-1x\" style=\"color:#008fff\"></i>\n",
    "                              \n",
    "                              \n",
    "                </div>\n",
    "                ''' \n",
    "map_Toronto_cluster.get_root().html.add_child(folium.Element(legend_html))\n",
    "       \n",
    "map_Toronto_cluster\n"
   ]
  },
  {
   "cell_type": "markdown",
   "metadata": {},
   "source": [
    "<hr>"
   ]
  },
  {
   "cell_type": "markdown",
   "metadata": {},
   "source": [
    "The model gave almost perfect result. "
   ]
  },
  {
   "cell_type": "markdown",
   "metadata": {},
   "source": [
    "<hr>"
   ]
  }
 ],
 "metadata": {
  "kernelspec": {
   "display_name": "Python 3",
   "language": "python",
   "name": "python3"
  },
  "language_info": {
   "codemirror_mode": {
    "name": "ipython",
    "version": 3
   },
   "file_extension": ".py",
   "mimetype": "text/x-python",
   "name": "python",
   "nbconvert_exporter": "python",
   "pygments_lexer": "ipython3",
   "version": "3.6.10"
  }
 },
 "nbformat": 4,
 "nbformat_minor": 4
}
